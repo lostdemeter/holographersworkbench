{
 "cells": [
  {
   "cell_type": "markdown",
   "metadata": {},
   "source": [
    "# Demo 15: Quantum Clock Analysis\n",
    "\n",
    "This notebook demonstrates fractal peel quantum clock analysis using Riemann zeta zero spacings.\n",
    "\n",
    "**Key Concepts:**\n",
    "- Zeta zero spacings as quantum timing reference\n",
    "- Fractal peel analysis (Haar wavelet variance cascade)\n",
    "- Spectral sharpness & coherence metrics\n",
    "- RH falsification via off-line β-shift simulation\n",
    "- Comprehensive visualization suite\n",
    "\n",
    "Run all cells to see outputs."
   ]
  },
  {
   "cell_type": "code",
   "execution_count": null,
   "metadata": {},
   "outputs": [],
   "source": [
    "import numpy as np\n",
    "import matplotlib.pyplot as plt\n",
    "from workbench import QuantumClock\n",
    "\n",
    "print('=' * 70)\n",
    "print('DEMO 15: QUANTUM CLOCK ANALYSIS')\n",
    "print('=' * 70)"
   ]
  },
  {
   "cell_type": "markdown",
   "metadata": {},
   "source": [
    "## Part 1: Basic Quantum Clock Creation"
   ]
  },
  {
   "cell_type": "code",
   "execution_count": null,
   "metadata": {},
   "outputs": [],
   "source": [
    "# Create a quantum clock with 200 zeros (fast for demo)\n",
    "print('\\nCreating Quantum Clock with 200 zeros...')\n",
    "print('-' * 70)\n",
    "\n",
    "qc = QuantumClock(n_zeros=200)\n",
    "\n",
    "print(f'✓ Quantum Clock initialized')\n",
    "print(f'  Number of zeros: {qc.n_zeros}')"
   ]
  },
  {
   "cell_type": "markdown",
   "metadata": {},
   "source": [
    "## Part 2: Compute Zeta Zero Spacings"
   ]
  },
  {
   "cell_type": "code",
   "execution_count": null,
   "metadata": {},
   "outputs": [],
   "source": [
    "# Compute spacings between consecutive zeros\n",
    "spacings = qc.compute_zeta_spacings()\n",
    "\n",
    "print(f'\\n✓ Computed {len(spacings)} spacings')\n",
    "print(f'  First 10 spacings: {spacings[:10]}')\n",
    "print(f'  Mean: {np.mean(spacings):.6f}')\n",
    "print(f'  Std: {np.std(spacings):.6f}')\n",
    "print(f'  Min: {np.min(spacings):.6f}')\n",
    "print(f'  Max: {np.max(spacings):.6f}')"
   ]
  },
  {
   "cell_type": "markdown",
   "metadata": {},
   "source": [
    "## Part 3: Fractal Peel Analysis"
   ]
  },
  {
   "cell_type": "code",
   "execution_count": null,
   "metadata": {},
   "outputs": [],
   "source": [
    "# Perform fractal peel analysis on spacings\n",
    "fractal_data = qc.fractal_peel(spacings, max_levels=7)\n",
    "\n",
    "print('\\nFractal Peel Results:')\n",
    "print('-' * 70)\n",
    "print(f'Fractal Dimension: {fractal_data[\"fractal_dim\"]:.3f}')\n",
    "print(f'Coherence Time: {fractal_data[\"coherence_time\"]} ticks')\n",
    "print(f'Residual Fraction: {fractal_data[\"resfrac\"]:.2e}')\n",
    "print(f'\\nVariance Cascade:')\n",
    "for i, var in enumerate(fractal_data['variances']):\n",
    "    print(f'  Level {i}: {var:.8f}')"
   ]
  },
  {
   "cell_type": "markdown",
   "metadata": {},
   "source": [
    "## Part 4: Spectral Analysis"
   ]
  },
  {
   "cell_type": "code",
   "execution_count": null,
   "metadata": {},
   "outputs": [],
   "source": [
    "# Compute structure factor (power spectrum)\n",
    "freqs, power = qc.compute_structure_factor(spacings)\n",
    "\n",
    "# Compute spectral sharpness\n",
    "sharpness = qc.compute_spectral_sharpness(freqs, power)\n",
    "\n",
    "# Find dominant frequency\n",
    "peak_idx = np.argmax(power)\n",
    "dominant_freq = freqs[peak_idx]\n",
    "\n",
    "print('\\nSpectral Analysis:')\n",
    "print('-' * 70)\n",
    "print(f'Spectral Sharpness: {sharpness:.3f}')\n",
    "print(f'Dominant Frequency: {dominant_freq:.6f}')\n",
    "print(f'Peak Power: {power[peak_idx]:.2e}')\n",
    "\n",
    "# Plot power spectrum\n",
    "plt.figure(figsize=(10, 4))\n",
    "plt.semilogy(freqs, power, linewidth=1)\n",
    "plt.axvline(dominant_freq, color='r', linestyle='--', label=f'Peak: {dominant_freq:.4f}')\n",
    "plt.xlabel('Frequency')\n",
    "plt.ylabel('Power')\n",
    "plt.title('Power Spectrum of Zeta Zero Spacings')\n",
    "plt.legend()\n",
    "plt.grid(True, alpha=0.3)\n",
    "plt.show()"
   ]
  },
  {
   "cell_type": "markdown",
   "metadata": {},
   "source": [
    "## Part 5: Complete Analysis"
   ]
  },
  {
   "cell_type": "code",
   "execution_count": null,
   "metadata": {},
   "outputs": [],
   "source": [
    "# Run complete analysis (creates new QuantumClock for clean demo)\n",
    "qc2 = QuantumClock(n_zeros=300)\n",
    "metrics = qc2.analyze()\n",
    "\n",
    "print('\\nComplete Metrics:')\n",
    "print('-' * 70)\n",
    "for key, value in metrics.items():\n",
    "    if isinstance(value, float):\n",
    "        print(f'{key:20s}: {value:.6f}')\n",
    "    else:\n",
    "        print(f'{key:20s}: {value}')"
   ]
  },
  {
   "cell_type": "markdown",
   "metadata": {},
   "source": [
    "## Part 6: RH Falsification Test"
   ]
  },
  {
   "cell_type": "code",
   "execution_count": null,
   "metadata": {},
   "outputs": [],
   "source": [
    "# Test Riemann Hypothesis via off-line β-shift\n",
    "print('\\nRiemann Hypothesis Falsification Test:')\n",
    "print('-' * 70)\n",
    "\n",
    "# Test with β = 1/2 (RH case)\n",
    "resfrac_rh, falsify_rh = qc2.test_rh_falsification(beta_shift=0.0, n_test=100)\n",
    "\n",
    "# Test with β-shift (off-line case)\n",
    "resfrac_shift, falsify_shift = qc2.test_rh_falsification(beta_shift=0.01, n_test=100)\n",
    "\n",
    "print('\\nSummary:')\n",
    "print(f'  RH case (β=1/2):     resfrac={resfrac_rh:.2e}, Falsifies: {falsify_rh}')\n",
    "print(f'  Shifted (β=1/2+0.01): resfrac={resfrac_shift:.2e}, Falsifies: {falsify_shift}')\n",
    "print('\\nInterpretation:')\n",
    "print('  - resfrac < 0.05: Consistent with RH (β=1/2)')\n",
    "print('  - resfrac > 0.05: Falsifies RH (zeros off critical line)')"
   ]
  },
  {
   "cell_type": "markdown",
   "metadata": {},
   "source": [
    "## Part 7: Comprehensive Visualization"
   ]
  },
  {
   "cell_type": "code",
   "execution_count": null,
   "metadata": {},
   "outputs": [],
   "source": [
    "# Create comprehensive visualization\n",
    "print('\\nGenerating comprehensive visualization...')\n",
    "qc2.visualize(save_path='quantum_clock_demo.png')\n",
    "\n",
    "print('\\n✓ Visualization complete')\n",
    "print('  Saved to: quantum_clock_demo.png')"
   ]
  },
  {
   "cell_type": "markdown",
   "metadata": {},
   "source": [
    "## Part 8: Export Metrics"
   ]
  },
  {
   "cell_type": "code",
   "execution_count": null,
   "metadata": {},
   "outputs": [],
   "source": [
    "# Export metrics to file\n",
    "qc2.export_metrics('quantum_clock_demo_metrics.txt')\n",
    "\n",
    "# Read and display\n",
    "with open('quantum_clock_demo_metrics.txt', 'r') as f:\n",
    "    print('\\nExported Metrics File:')\n",
    "    print('-' * 70)\n",
    "    print(f.read())"
   ]
  },
  {
   "cell_type": "markdown",
   "metadata": {},
   "source": [
    "## Part 9: Scaling Analysis"
   ]
  },
  {
   "cell_type": "code",
   "execution_count": null,
   "metadata": {},
   "outputs": [],
   "source": [
    "# Analyze how metrics scale with number of zeros\n",
    "import time\n",
    "\n",
    "print('\\nScaling Analysis:')\n",
    "print('-' * 70)\n",
    "print(f'{\"N Zeros\":<10} {\"Time (s)\":<12} {\"Fractal Dim\":<15} {\"Coherence\":<12}')\n",
    "print('-' * 70)\n",
    "\n",
    "for n in [50, 100, 200, 400]:\n",
    "    start = time.time()\n",
    "    qc_test = QuantumClock(n_zeros=n)\n",
    "    metrics_test = qc_test.analyze()\n",
    "    elapsed = time.time() - start\n",
    "    \n",
    "    print(f'{n:<10} {elapsed:<12.2f} {metrics_test[\"fractal_dim\"]:<15.3f} {metrics_test[\"coherence_time\"]:<12}')"
   ]
  },
  {
   "cell_type": "markdown",
   "metadata": {},
   "source": [
    "## Part 10: Custom Signal Analysis"
   ]
  },
  {
   "cell_type": "code",
   "execution_count": null,
   "metadata": {},
   "outputs": [],
   "source": [
    "# Use QuantumClock methods on custom signals\n",
    "print('\\nCustom Signal Analysis:')\n",
    "print('-' * 70)\n",
    "\n",
    "# Create synthetic signal with known fractal properties\n",
    "np.random.seed(42)\n",
    "t = np.linspace(0, 10, 1000)\n",
    "signal = np.sin(2*np.pi*t) + 0.5*np.sin(4*np.pi*t) + 0.2*np.random.randn(len(t))\n",
    "\n",
    "# Analyze with fractal peel\n",
    "qc_custom = QuantumClock(n_zeros=100)  # Just for methods\n",
    "fractal_custom = qc_custom.fractal_peel(signal, max_levels=8)\n",
    "\n",
    "print(f'Custom Signal Fractal Dimension: {fractal_custom[\"fractal_dim\"]:.3f}')\n",
    "print(f'Custom Signal Coherence Time: {fractal_custom[\"coherence_time\"]} samples')\n",
    "print(f'Custom Signal Residual Fraction: {fractal_custom[\"resfrac\"]:.2e}')\n",
    "\n",
    "# Compare with white noise\n",
    "noise = np.random.randn(1000)\n",
    "fractal_noise = qc_custom.fractal_peel(noise, max_levels=8)\n",
    "\n",
    "print(f'\\nWhite Noise Fractal Dimension: {fractal_noise[\"fractal_dim\"]:.3f}')\n",
    "print(f'White Noise Coherence Time: {fractal_noise[\"coherence_time\"]} samples')\n",
    "print(f'White Noise Residual Fraction: {fractal_noise[\"resfrac\"]:.2e}')"
   ]
  },
  {
   "cell_type": "markdown",
   "metadata": {},
   "source": [
    "## Summary\n",
    "\n",
    "**Quantum Clock** provides:\n",
    "- **Fractal peel analysis** for multi-scale structure\n",
    "- **Spectral metrics** (sharpness, dominant frequency)\n",
    "- **RH falsification test** via β-shift simulation\n",
    "- **Comprehensive visualization** suite\n",
    "- **Integration** with fast_zetas for high performance\n",
    "\n",
    "**Key Metrics:**\n",
    "- **Fractal Dimension**: Hurst exponent analog (0.5 = white noise)\n",
    "- **Coherence Time**: Scale where variance drops 50%\n",
    "- **Residual Fraction**: Final/initial variance ratio\n",
    "- **Spectral Sharpness**: Concentration of power spectrum\n",
    "\n",
    "**Applications:**\n",
    "- Precision timing and synchronization\n",
    "- Quantum computing error correction\n",
    "- Signal processing and communications\n",
    "- Gravitational wave detection\n",
    "- Riemann Hypothesis verification\n",
    "\n",
    "**Performance:**\n",
    "- Uses fast_zetas for 26× speedup in zero computation\n",
    "- 200 zeros: ~5s analysis time\n",
    "- 500 zeros: ~4min complete analysis with visualization"
   ]
  }
 ],
 "metadata": {
  "kernelspec": {
   "display_name": "Python 3",
   "language": "python",
   "name": "python3"
  },
  "language_info": {
   "codemirror_mode": {
    "name": "ipython",
    "version": 3
   },
   "file_extension": ".py",
   "mimetype": "text/x-python",
   "name": "python",
   "nbconvert_exporter": "python",
   "pygments_lexer": "ipython3",
   "version": "3.8.0"
  }
 },
 "nbformat": 4,
 "nbformat_minor": 4
}
