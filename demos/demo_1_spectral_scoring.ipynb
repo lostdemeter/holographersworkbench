{
 "cells": [
  {
   "cell_type": "markdown",
   "metadata": {},
   "source": [
    "# Demo 1: Spectral Scoring with Zeta Zeros\n",
    "\n",
    "This notebook demonstrates zeta fiducials and oscillatory scoring on candidate arrays.\n",
    "\n",
    "**Key Concepts:**\n",
    "- Load first 20 Riemann zeta zeros as frequencies.\n",
    "- Score candidates using damped oscillatory sums.\n",
    "- Identify top-10 scored candidates.\n",
    "\n",
    "Run all cells to see outputs."
   ]
  },
  {
   "cell_type": "code",
   "execution_count": null,
   "metadata": {},
   "outputs": [],
   "source": [
    "import numpy as np\n",
    "from workbench import ZetaFiducials, SpectralScorer\n",
    "\n",
    "print('=' * 70)\n",
    "print('DEMO 1: SPECTRAL SCORING WITH ZETA ZEROS')\n",
    "print('=' * 70)"
   ]
  },
  {
   "cell_type": "code",
   "execution_count": null,
   "metadata": {},
   "outputs": [],
   "source": [
    "# Load zeta zeros (cached automatically)\n",
    "zeros = ZetaFiducials.get_standard(20)\n",
    "print(f'Loaded {len(zeros)} zeta zeros')\n",
    "print(f'First 5: {zeros[:5]}')"
   ]
  },
  {
   "cell_type": "code",
   "execution_count": null,
   "metadata": {},
   "outputs": [],
   "source": [
    "# Create candidates\n",
    "candidates = np.arange(100, 1000)\n",
    "print(f'\\nScoring {len(candidates)} candidates...')"
   ]
  },
  {
   "cell_type": "code",
   "execution_count": null,
   "metadata": {},
   "outputs": [],
   "source": [
    "# Score using spectral method\n",
    "scorer = SpectralScorer(frequencies=zeros, damping=0.05)\n",
    "scores = scorer.compute_scores(candidates, shift=0.05, mode='real')\n",
    "\n",
    "# Find top 10\n",
    "top_idx = np.argsort(-scores)[:10]\n",
    "top_candidates = candidates[top_idx]\n",
    "\n",
    "print(f'Top 10 candidates: {top_candidates}')\n",
    "print('=' * 70)"
   ]
  },
  {
   "cell_type": "markdown",
   "metadata": {},
   "source": [
    "**Insight:** Peaks align with zeta-modulated harmonics in log-space. For larger ranges, this reduces search space by 90%+."
   ]
  }
 ],
 "metadata": {
  "kernelspec": {
   "display_name": "Python 3",
   "language": "python",
   "name": "python3"
  },
  "language_info": {
   "codemirror_mode": {
    "name": "ipython",
    "version": 3
   },
   "file_extension": ".py",
   "mimetype": "text/x-python",
   "name": "python",
   "nbconvert_exporter": "python",
   "pygments_lexer": "ipython3",
   "version": "3.12.3"
  }
 },
 "nbformat": 4,
 "nbformat_minor": 5
}
