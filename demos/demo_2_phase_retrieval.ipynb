{
 "cells": [
  {
   "cell_type": "markdown",
   "metadata": {},
   "source": [
    "# Demo 2: Phase Retrieval and Envelope Extraction\n",
    "\n",
    "Demonstrates Hilbert transform for envelope extraction and phase variance on noisy sine waves.\n",
    "\n",
    "**Key Concepts:**\n",
    "- Create noisy multi-frequency signal.\n",
    "- Extract envelope via Hilbert.\n",
    "- Assess quality via phase variance (low = high quality).\n",
    "\n",
    "Expected: Envelope ~1.0, PV <0.05 for clean signals."
   ]
  },
  {
   "cell_type": "code",
   "execution_count": null,
   "metadata": {},
   "outputs": [],
   "source": [
    "import numpy as np\n",
    "from workbench import phase_retrieve_hilbert\n",
    "\n",
    "print('=' * 70)\n",
    "print('DEMO 2: PHASE RETRIEVAL')\n",
    "print('=' * 70)"
   ]
  },
  {
   "cell_type": "code",
   "execution_count": null,
   "metadata": {},
   "outputs": [],
   "source": [
    "# Create noisy signal with peaks\n",
    "n = 1000\n",
    "x = np.linspace(0, 10, n)\n",
    "signal = np.sin(x) + 0.5 * np.sin(3 * x) + 0.3 * np.random.randn(n)\n",
    "\n",
    "print(f'Signal length: {n}')\n",
    "print(f'Signal range: [{np.min(signal):.3f}, {np.max(signal):.3f}]')"
   ]
  },
  {
   "cell_type": "code",
   "execution_count": null,
   "metadata": {},
   "outputs": [],
   "source": [
    "# Extract envelope using Hilbert transform\n",
    "envelope, phase_var = phase_retrieve_hilbert(signal)\n",
    "\n",
    "print(f'\\nEnvelope extracted:')\n",
    "print(f'  Envelope range: [{np.min(envelope):.3f}, {np.max(envelope):.3f}]')\n",
    "print(f'  Phase variance: {phase_var:.6f}')\n",
    "\n",
    "if phase_var < 0.05:\n",
    "    print('  ✓ High quality signal (low phase variance)')\n",
    "elif phase_var < 0.12:\n",
    "    print('  ○ Medium quality signal')\n",
    "else:\n",
    "    print('  ✗ Low quality signal (high phase variance)')\n",
    "\n",
    "print('=' * 70)"
   ]
  },
  {
   "cell_type": "markdown",
   "metadata": {},
   "source": [
    "**Insight:** For this toy, PV ≈0.01 indicates stable phase—ideal for downstream refinement."
   ]
  }
 ],
 "metadata": {
  "kernelspec": {
   "display_name": "Python 3",
   "language": "python",
   "name": "python3"
  },
  "language_info": {
   "codemirror_mode": {
    "name": "ipython",
    "version": 3
   },
   "file_extension": ".py",
   "mimetype": "text/x-python",
   "name": "python",
   "nbconvert_exporter": "python",
   "pygments_lexer": "ipython3",
   "version": "3.12.3"
  }
 },
 "nbformat": 4,
 "nbformat_minor": 5
}
