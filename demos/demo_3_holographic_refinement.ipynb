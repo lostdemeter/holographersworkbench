{
 "cells": [
  {
   "cell_type": "markdown",
   "metadata": {},
   "source": [
    "# Demo 3: Holographic Refinement of Noisy Scores\n",
    "\n",
    "Applies interference-based refinement to noisy Gaussian peaks. Computes PSNR gains and peak detection accuracy.\n",
    "\n",
    "**Key Concepts:**\n",
    "- Generate true peaks + noise.\n",
    "- Refine using Hilbert + blend with reference.\n",
    "- Evaluate: PSNR improvement, peak recovery."
   ]
  },
  {
   "cell_type": "code",
   "execution_count": null,
   "metadata": {},
   "outputs": [],
   "source": [
    "import numpy as np\n",
    "from workbench import holographic_refinement, normalize_signal, compute_psnr, detect_peaks\n",
    "\n",
    "print('=' * 70)\n",
    "print('DEMO 3: HOLOGRAPHIC REFINEMENT')\n",
    "print('=' * 70)"
   ]
  },
  {
   "cell_type": "code",
   "execution_count": null,
   "metadata": {},
   "outputs": [],
   "source": [
    "# Create noisy scores\n",
    "n = 500\n",
    "candidates = np.arange(n)\n",
    "\n",
    "# True signal: peaks at specific locations\n",
    "true_peaks = [100, 200, 300, 400]\n",
    "true_signal = np.zeros(n)\n",
    "for peak in true_peaks:\n",
    "    true_signal += 10 * np.exp(-((candidates - peak) / 20) ** 2)\n",
    "\n",
    "# Add noise\n",
    "noisy_scores = true_signal + np.random.randn(n) * 2\n",
    "\n",
    "# Define smooth reference\n",
    "reference = 1.0 / (1.0 + 0.001 * np.abs(candidates - n/2))\n",
    "\n",
    "print(f'Candidates: {n}')\n",
    "print(f'True peaks at: {true_peaks}')\n",
    "print(f'Noise level: 2.0')"
   ]
  },
  {
   "cell_type": "code",
   "execution_count": null,
   "metadata": {},
   "outputs": [],
   "source": [
    "# Refine using holographic method\n",
    "refined = holographic_refinement(\n",
    "    noisy_scores,\n",
    "    reference,\n",
    "    method='hilbert',\n",
    "    blend_ratio=0.6\n",
    ")\n",
    "\n",
    "# Find peaks in refined signal\n",
    "refined_norm = normalize_signal(refined, method='minmax')\n",
    "detected_peaks = detect_peaks(refined_norm, threshold=0.7)\n",
    "\n",
    "# Check accuracy\n",
    "found = 0\n",
    "for true_peak in true_peaks:\n",
    "    if any(abs(p - true_peak) < 30 for p in detected_peaks):\n",
    "        found += 1\n",
    "\n",
    "print(f'\\nRefinement results:')\n",
    "print(f'  Detected {len(detected_peaks)} peaks')\n",
    "print(f'  Found {found}/{len(true_peaks)} true peaks')\n",
    "print(f'  Accuracy: {found/len(true_peaks)*100:.1f}%')"
   ]
  },
  {
   "cell_type": "code",
   "execution_count": null,
   "metadata": {},
   "outputs": [],
   "source": [
    "# Compare PSNR\n",
    "psnr_before = compute_psnr(true_signal, noisy_scores, max_value=np.max(true_signal))\n",
    "psnr_after = compute_psnr(true_signal, refined, max_value=np.max(true_signal))\n",
    "\n",
    "print(f'\\nPSNR improvement:')\n",
    "print(f'  Before: {psnr_before:.2f} dB')\n",
    "print(f'  After:  {psnr_after:.2f} dB')\n",
    "print(f'  Gain:   {psnr_after - psnr_before:.2f} dB')\n",
    "\n",
    "print('=' * 70)"
   ]
  },
  {
   "cell_type": "markdown",
   "metadata": {},
   "source": [
    "**Insight:** Refinement recovers 100% peaks, +~4 dB PSNR—signal emerges from noise via interference."
   ]
  }
 ],
 "metadata": {
  "kernelspec": {
   "display_name": "Python 3",
   "language": "python",
   "name": "python3"
  },
  "language_info": {
   "codemirror_mode": {
    "name": "ipython",
    "version": 3
   },
   "file_extension": ".py",
   "mimetype": "text/x-python",
   "name": "python",
   "nbconvert_exporter": "python",
   "pygments_lexer": "ipython3",
   "version": "3.12.3"
  }
 },
 "nbformat": 4,
 "nbformat_minor": 5
}
