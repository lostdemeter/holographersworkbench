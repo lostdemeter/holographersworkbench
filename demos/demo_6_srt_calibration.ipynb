{
 "cells": [
  {
   "cell_type": "markdown",
   "metadata": {},
   "source": [
    "# Demo 6: SRT Parameter Calibration\n",
    "\n",
    "Automated tuning of SRT params using mock ground truth and Dirac operator.\n",
    "\n",
    "**Key Concepts:**\n",
    "- Mock GT indices/values.\n",
    "- Grid-search z, corr, etc., for min resonance/error.\n",
    "- Outputs best params + metrics (resonance, spectral gap)."
   ]
  },
  {
   "cell_type": "code",
   "execution_count": null,
   "metadata": {},
   "outputs": [],
   "source": [
    "import numpy as np\n",
    "from workbench import SRTCalibrator, SRTParams\n",
    "\n",
    "# Mock affinity functions\n",
    "def aff_default(idx):\n",
    "    return 1.0 / (1 + idx / 1000)\n",
    "\n",
    "affinities = {'default': aff_default}\n",
    "\n",
    "print('=' * 70)\n",
    "print('DEMO 6: SRT CALIBRATION')\n",
    "print('=' * 70)"
   ]
  },
  {
   "cell_type": "code",
   "execution_count": null,
   "metadata": {},
   "outputs": [],
   "source": [
    "# Mock ground truth (e.g., known good indices/values)\n",
    "gt_indices = np.array([100, 200, 300, 400, 500])\n",
    "gt_values = np.array([0.8, 0.9, 0.7, 0.95, 0.85])\n",
    "\n",
    "calibrator = SRTCalibrator(\n",
    "    gt_indices,\n",
    "    gt_values,\n",
    "    affinities,\n",
    "    verbose=False  # Set True for progress\n",
    ")"
   ]
  },
  {
   "cell_type": "code",
   "execution_count": null,
   "metadata": {},
   "outputs": [],
   "source": [
    "# Run calibration (coarse grid for demo)\n",
    "best_params, metrics = calibrator.calibrate(grid_resolution='coarse')\n",
    "\n",
    "print('Best Parameters:')\n",
    "print(f'  z: {best_params.z:.3f}')\n",
    "print(f'  corr: {best_params.corr:.3f}')\n",
    "print(f'  theta: {best_params.theta:.3f}')\n",
    "print(f'  corr_decay: {best_params.corr_decay:.1f}')\n",
    "print(f'  affinity_type: {best_params.affinity_type}')\n",
    "\n",
    "print('\\nMetrics:')\n",
    "print(f'  Prediction Error: {metrics[\"prediction_error\"]:.4f}')\n",
    "print(f'  Resonance: {metrics[\"resonance\"]:.4f}')\n",
    "print(f'  Eigenvalue Spread: {metrics[\"eigenvalue_spread\"]:.4f}')\n",
    "print(f'  Spectral Gap: {metrics[\"spectral_gap\"]:.4f}')\n",
    "\n",
    "print('=' * 70)"
   ]
  },
  {
   "cell_type": "markdown",
   "metadata": {},
   "source": [
    "**Insight:** Low resonance (~0.5-1.0) and error (<0.1) indicate well-separated eigenvalues—optimal for SRT operators."
   ]
  }
 ],
 "metadata": {
  "kernelspec": {
   "display_name": "Python 3",
   "language": "python",
   "name": "python3"
  },
  "language_info": {
   "codemirror_mode": {
    "name": "ipython",
    "version": 3
   },
   "file_extension": ".py",
   "mimetype": "text/x-python",
   "name": "python",
   "nbconvert_exporter": "python",
   "pygments_lexer": "ipython3",
   "version": "3.12.3"
  }
 },
 "nbformat": 4,
 "nbformat_minor": 5
}
