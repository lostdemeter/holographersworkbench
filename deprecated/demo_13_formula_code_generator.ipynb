{
 "cells": [
  {
   "cell_type": "markdown",
   "metadata": {},
   "source": [
    "# Demo 13: Formula Code Generator\n",
    "\n",
    "This notebook demonstrates the **Formula Code Generator** for automatically generating production-ready Python code from formula discoveries.\n",
    "\n",
    "## Why This Tool Exists\n",
    "\n",
    "During optimization of `fast_zetas.py`, we:\n",
    "- Discovered 5+ correction layers through error analysis\n",
    "- **Manually** wrote code to combine them into a production formula\n",
    "- **Manually** optimized the code structure for performance\n",
    "- **Manually** added documentation and type hints\n",
    "- **Manually** created test cases\n",
    "\n",
    "This tool **automates all of that**.\n",
    "\n",
    "## The Complete Optimization Pipeline\n",
    "\n",
    "1. **Performance Profiler** → Identify bottlenecks\n",
    "2. **Error Pattern Visualizer** → Discover corrections\n",
    "3. **Formula Code Generator** → Generate production code ← **You are here**\n",
    "\n",
    "## Key Insight\n",
    "\n",
    "**Once you've discovered the formula, writing the code should be automatic.**"
   ]
  },
  {
   "cell_type": "code",
   "execution_count": null,
   "metadata": {},
   "outputs": [],
   "source": [
    "import sys\n",
    "sys.path.append('..')\n",
    "\n",
    "import numpy as np\n",
    "from formula_code_generator import (\n",
    "    FormulaCodeGenerator,\n",
    "    CodeValidator,\n",
    "    CodeOptimizer,\n",
    "    TestGenerator,\n",
    "    BenchmarkGenerator\n",
    ")\n",
    "from error_pattern_visualizer import ErrorPatternAnalyzer\n",
    "\n",
    "print(\"✓ Imports successful\")"
   ]
  },
  {
   "cell_type": "markdown",
   "metadata": {},
   "source": [
    "## 1. Basic Function Generation\n",
    "\n",
    "Generate a simple function from a base formula and corrections."
   ]
  },
  {
   "cell_type": "code",
   "execution_count": null,
   "metadata": {},
   "outputs": [],
   "source": [
    "# Create generator\n",
    "generator = FormulaCodeGenerator(\n",
    "    base_formula=\"x**2\",\n",
    "    name=\"quadratic_improved\",\n",
    "    description=\"Quadratic function with linear correction\"\n",
    ")\n",
    "\n",
    "# Add a correction\n",
    "generator.add_correction(\n",
    "    \"correction = 0.1 * x\",\n",
    "    description=\"Linear correction term\"\n",
    ")\n",
    "\n",
    "# Generate function\n",
    "code = generator.generate_function(\n",
    "    style=\"vectorized\",\n",
    "    include_docstring=True,\n",
    "    include_type_hints=True\n",
    ")\n",
    "\n",
    "print(\"Generated function:\")\n",
    "print(\"=\" * 70)\n",
    "print(code)"
   ]
  },
  {
   "cell_type": "markdown",
   "metadata": {},
   "source": [
    "## 2. Generate from Error Analysis\n",
    "\n",
    "Automatically generate code from discovered error patterns."
   ]
  },
  {
   "cell_type": "code",
   "execution_count": null,
   "metadata": {},
   "outputs": [],
   "source": [
    "# Analyze errors\n",
    "x = np.linspace(0, 10, 100)\n",
    "actual = np.sin(x) + 0.1 * x + 0.05 * x**2\n",
    "predicted = np.sin(x)\n",
    "\n",
    "analyzer = ErrorPatternAnalyzer(actual, predicted, x, name=\"Sin + Corrections\")\n",
    "report = analyzer.analyze_all()\n",
    "\n",
    "print(\"Discovered patterns:\")\n",
    "for i, sug in enumerate(report.suggestions, 1):\n",
    "    print(f\"  {i}. {sug.description} (improvement: {sug.improvement_estimate:.1%})\")"
   ]
  },
  {
   "cell_type": "code",
   "execution_count": null,
   "metadata": {},
   "outputs": [],
   "source": [
    "# Create generator from analysis\n",
    "generator = FormulaCodeGenerator(\n",
    "    base_formula=\"np.sin(x)\",\n",
    "    name=\"improved_sin\",\n",
    "    description=\"Sine function with discovered corrections\"\n",
    ")\n",
    "\n",
    "# Add all discovered corrections\n",
    "for suggestion in report.suggestions[:3]:\n",
    "    generator.add_correction(suggestion)\n",
    "\n",
    "# Generate function\n",
    "code = generator.generate_function()\n",
    "print(\"\\nGenerated function with corrections:\")\n",
    "print(\"=\" * 70)\n",
    "print(code)"
   ]
  },
  {
   "cell_type": "markdown",
   "metadata": {},
   "source": [
    "## 3. Add Parameters\n",
    "\n",
    "Include optimized parameters in the generated code."
   ]
  },
  {
   "cell_type": "code",
   "execution_count": null,
   "metadata": {},
   "outputs": [],
   "source": [
    "generator = FormulaCodeGenerator(\n",
    "    base_formula=\"np.log(x + 1)\",\n",
    "    name=\"log_with_harmonics\",\n",
    "    description=\"Logarithm with harmonic corrections\"\n",
    ")\n",
    "\n",
    "# Add optimized parameters\n",
    "generator.add_parameter(\"freq1\", 3.14159, \"First harmonic frequency\", optimized=True)\n",
    "generator.add_parameter(\"amp1\", 0.123, \"First harmonic amplitude\", optimized=True)\n",
    "generator.add_parameter(\"freq2\", 6.28318, \"Second harmonic frequency\", optimized=True)\n",
    "generator.add_parameter(\"amp2\", 0.056, \"Second harmonic amplitude\", optimized=True)\n",
    "\n",
    "# Add correction using parameters\n",
    "generator.add_correction(\n",
    "    \"correction = amp1 * np.sin(freq1 * x) + amp2 * np.sin(freq2 * x)\",\n",
    "    description=\"Harmonic corrections\"\n",
    ")\n",
    "\n",
    "code = generator.generate_function()\n",
    "print(code)"
   ]
  },
  {
   "cell_type": "markdown",
   "metadata": {},
   "source": [
    "## 4. Generate Complete Module\n",
    "\n",
    "Generate a complete Python module with tests, benchmarks, and examples."
   ]
  },
  {
   "cell_type": "code",
   "execution_count": null,
   "metadata": {},
   "outputs": [],
   "source": [
    "generator = FormulaCodeGenerator(\n",
    "    base_formula=\"x**2 + 2*x + 1\",\n",
    "    name=\"polynomial_formula\",\n",
    "    description=\"Polynomial with corrections and optimizations\",\n",
    "    author=\"Demo User\"\n",
    ")\n",
    "\n",
    "generator.add_correction(\"correction = 0.01 * x**3\")\n",
    "\n",
    "# Generate complete module\n",
    "module_code = generator.generate_module(\n",
    "    include_tests=True,\n",
    "    include_benchmarks=True,\n",
    "    include_examples=True\n",
    ")\n",
    "\n",
    "print(f\"Generated module: {len(module_code)} characters\")\n",
    "print(\"\\nPreview (first 50 lines):\")\n",
    "print(\"=\" * 70)\n",
    "print('\\n'.join(module_code.split('\\n')[:50]))\n",
    "print(\"\\n... (truncated)\")"
   ]
  },
  {
   "cell_type": "markdown",
   "metadata": {},
   "source": [
    "## 5. Code Validation\n",
    "\n",
    "Validate generated code for correctness and quality."
   ]
  },
  {
   "cell_type": "code",
   "execution_count": null,
   "metadata": {},
   "outputs": [],
   "source": [
    "# Generate code\n",
    "generator = FormulaCodeGenerator(\n",
    "    base_formula=\"np.sqrt(x)\",\n",
    "    name=\"sqrt_improved\"\n",
    ")\n",
    "generator.add_correction(\"correction = 0.01 / (x + 1)\")\n",
    "\n",
    "code = generator.generate_function()\n",
    "\n",
    "# Validate\n",
    "validation = generator.validate_code(code)\n",
    "validation.print_summary()\n",
    "\n",
    "# Check if valid\n",
    "if validation.is_valid:\n",
    "    print(\"\\n✓ Code is ready for production!\")\n",
    "else:\n",
    "    print(\"\\n✗ Code has errors that need fixing\")"
   ]
  },
  {
   "cell_type": "markdown",
   "metadata": {},
   "source": [
    "## 6. Code Optimization\n",
    "\n",
    "Apply performance optimizations to generated code."
   ]
  },
  {
   "cell_type": "code",
   "execution_count": null,
   "metadata": {},
   "outputs": [],
   "source": [
    "# Generate code with constants\n",
    "generator = FormulaCodeGenerator(\n",
    "    base_formula=\"2 * np.pi * x / np.log(x + 1)\",\n",
    "    name=\"formula_with_constants\"\n",
    ")\n",
    "\n",
    "code = generator.generate_function()\n",
    "print(\"Original code:\")\n",
    "print(\"=\" * 70)\n",
    "print(code[:500])\n",
    "\n",
    "# Optimize\n",
    "optimized = generator.optimize_code(code)\n",
    "print(\"\\n\\nOptimized code:\")\n",
    "print(\"=\" * 70)\n",
    "print(optimized[:500])"
   ]
  },
  {
   "cell_type": "markdown",
   "metadata": {},
   "source": [
    "## 7. Generate Tests\n",
    "\n",
    "Automatically generate test cases for the formula."
   ]
  },
  {
   "cell_type": "code",
   "execution_count": null,
   "metadata": {},
   "outputs": [],
   "source": [
    "generator = FormulaCodeGenerator(\n",
    "    base_formula=\"x**2\",\n",
    "    name=\"test_formula\"\n",
    ")\n",
    "\n",
    "# Generate basic tests\n",
    "test_code = generator.generate_tests()\n",
    "print(\"Generated test code:\")\n",
    "print(\"=\" * 70)\n",
    "print(test_code)\n",
    "\n",
    "# Generate tests with specific cases\n",
    "test_cases = [\n",
    "    np.array([1.0, 2.0, 3.0]),\n",
    "    np.array([10.0, 20.0, 30.0])\n",
    "]\n",
    "test_code_with_cases = generator.generate_tests(test_cases=test_cases)\n",
    "print(\"\\n\\nTests with specific cases:\")\n",
    "print(\"=\" * 70)\n",
    "print(test_code_with_cases)"
   ]
  },
  {
   "cell_type": "markdown",
   "metadata": {},
   "source": [
    "## 8. Generate Benchmarks\n",
    "\n",
    "Create performance benchmarks for the formula."
   ]
  },
  {
   "cell_type": "code",
   "execution_count": null,
   "metadata": {},
   "outputs": [],
   "source": [
    "generator = FormulaCodeGenerator(\n",
    "    base_formula=\"np.sin(x) * np.cos(x)\",\n",
    "    name=\"trig_formula\"\n",
    ")\n",
    "\n",
    "# Generate benchmark\n",
    "benchmark_code = generator.generate_benchmark(\n",
    "    test_sizes=[10, 100, 1000, 10000, 100000]\n",
    ")\n",
    "\n",
    "print(\"Generated benchmark code:\")\n",
    "print(\"=\" * 70)\n",
    "print(benchmark_code)"
   ]
  },
  {
   "cell_type": "markdown",
   "metadata": {},
   "source": [
    "## 9. Export to File\n",
    "\n",
    "Export generated code to a Python file."
   ]
  },
  {
   "cell_type": "code",
   "execution_count": null,
   "metadata": {},
   "outputs": [],
   "source": [
    "generator = FormulaCodeGenerator(\n",
    "    base_formula=\"np.exp(-x**2)\",\n",
    "    name=\"gaussian_improved\",\n",
    "    description=\"Gaussian function with corrections\"\n",
    ")\n",
    "\n",
    "generator.add_correction(\"correction = 0.01 * x**4\")\n",
    "\n",
    "# Export as function\n",
    "try:\n",
    "    generator.export_to_file(\n",
    "        \"../temp/gaussian_improved_function.py\",\n",
    "        format=\"function\",\n",
    "        overwrite=True\n",
    "    )\n",
    "except Exception as e:\n",
    "    print(f\"Function export: {e}\")\n",
    "\n",
    "# Export as complete module\n",
    "try:\n",
    "    generator.export_to_file(\n",
    "        \"../temp/gaussian_improved_module.py\",\n",
    "        format=\"module\",\n",
    "        overwrite=True\n",
    "    )\n",
    "except Exception as e:\n",
    "    print(f\"Module export: {e}\")"
   ]
  },
  {
   "cell_type": "markdown",
   "metadata": {},
   "source": [
    "## 10. Preview Generated Code\n",
    "\n",
    "Preview code without generating the full output."
   ]
  },
  {
   "cell_type": "code",
   "execution_count": null,
   "metadata": {},
   "outputs": [],
   "source": [
    "generator = FormulaCodeGenerator(\n",
    "    base_formula=\"x**3 - 2*x**2 + x\",\n",
    "    name=\"cubic_formula\"\n",
    ")\n",
    "\n",
    "for i in range(3):\n",
    "    generator.add_correction(f\"correction = 0.0{i+1} * x**{i+1}\")\n",
    "\n",
    "# Preview function (truncated)\n",
    "print(\"Preview of function:\")\n",
    "print(\"=\" * 70)\n",
    "generator.preview(format=\"function\", max_lines=30)\n",
    "\n",
    "print(\"\\n\\nPreview of module:\")\n",
    "print(\"=\" * 70)\n",
    "generator.preview(format=\"module\", max_lines=40)"
   ]
  },
  {
   "cell_type": "markdown",
   "metadata": {},
   "source": [
    "## 11. Real-World Example: Zeta Zero Formula\n",
    "\n",
    "Generate production code for an improved zeta zero approximation."
   ]
  },
  {
   "cell_type": "code",
   "execution_count": null,
   "metadata": {},
   "outputs": [],
   "source": [
    "# Simulate zeta zero optimization\n",
    "n = np.arange(1, 101)\n",
    "actual_zeros = 2 * np.pi * (n - 11/8) / np.log(n + 1e-10)  # Simplified\n",
    "predicted_zeros = 2 * np.pi * (n - 11/8) / np.log(n + 1e-10) * 0.95\n",
    "\n",
    "# Analyze errors\n",
    "analyzer = ErrorPatternAnalyzer(\n",
    "    actual_zeros,\n",
    "    predicted_zeros,\n",
    "    n,\n",
    "    name=\"Zeta Zero Approximation\"\n",
    ")\n",
    "report = analyzer.analyze_all(max_corrections=5)\n",
    "\n",
    "print(\"Discovered correction patterns:\")\n",
    "for i, sug in enumerate(report.suggestions, 1):\n",
    "    print(f\"  {i}. {sug.description}\")\n",
    "\n",
    "# Generate improved formula\n",
    "generator = FormulaCodeGenerator(\n",
    "    base_formula=\"2 * np.pi * (x - 11/8) / np.log(x + 1e-10)\",\n",
    "    name=\"improved_zeta_zero\",\n",
    "    description=\"Improved Riemann zeta zero approximation with spectral corrections\",\n",
    "    author=\"Holographer's Workbench\"\n",
    ")\n",
    "\n",
    "# Add discovered corrections\n",
    "for i, suggestion in enumerate(report.suggestions[:3]):\n",
    "    generator.add_correction(suggestion, priority=i)\n",
    "\n",
    "# Add optimized parameters (simulated)\n",
    "generator.add_parameter(\"correction_factor\", 1.05263, \"Empirical correction factor\", optimized=True)\n",
    "\n",
    "# Generate complete module\n",
    "module = generator.generate_module(\n",
    "    include_tests=True,\n",
    "    include_benchmarks=True,\n",
    "    include_examples=True\n",
    ")\n",
    "\n",
    "print(\"\\n\" + \"=\" * 70)\n",
    "print(\"Generated production-ready zeta zero module\")\n",
    "print(\"=\" * 70)\n",
    "print(f\"Total size: {len(module)} characters\")\n",
    "print(\"\\nPreview:\")\n",
    "print('\\n'.join(module.split('\\n')[:60]))"
   ]
  },
  {
   "cell_type": "markdown",
   "metadata": {},
   "source": [
    "## 12. Validation Workflow\n",
    "\n",
    "Complete workflow: generate → validate → fix → export."
   ]
  },
  {
   "cell_type": "code",
   "execution_count": null,
   "metadata": {},
   "outputs": [],
   "source": [
    "# Generate code\n",
    "generator = FormulaCodeGenerator(\n",
    "    base_formula=\"np.sqrt(x) + np.log(x + 1)\",\n",
    "    name=\"combined_formula\"\n",
    ")\n",
    "generator.add_correction(\"correction = 0.1 * x / (x + 1)\")\n",
    "\n",
    "code = generator.generate_function()\n",
    "\n",
    "# Validate\n",
    "print(\"Step 1: Validate\")\n",
    "validation = generator.validate_code(code)\n",
    "print(f\"  Valid: {validation.is_valid}\")\n",
    "print(f\"  Errors: {len(validation.errors)}\")\n",
    "print(f\"  Warnings: {len(validation.warnings)}\")\n",
    "\n",
    "# Optimize if valid\n",
    "if validation.is_valid:\n",
    "    print(\"\\nStep 2: Optimize\")\n",
    "    optimized = generator.optimize_code(code)\n",
    "    print(\"  ✓ Optimizations applied\")\n",
    "    \n",
    "    print(\"\\nStep 3: Export\")\n",
    "    try:\n",
    "        generator.export_to_file(\n",
    "            \"../temp/combined_formula.py\",\n",
    "            format=\"module\",\n",
    "            overwrite=True\n",
    "        )\n",
    "    except Exception as e:\n",
    "        print(f\"  Export: {e}\")\n",
    "else:\n",
    "    print(\"\\n✗ Fix errors before exporting\")\n",
    "    validation.print_summary()"
   ]
  },
  {
   "cell_type": "markdown",
   "metadata": {},
   "source": [
    "## Summary\n",
    "\n",
    "The Formula Code Generator provides:\n",
    "\n",
    "1. **Automatic Code Generation** - From formula components to production code\n",
    "2. **Multiple Formats** - Function, class, or complete module\n",
    "3. **Code Validation** - Syntax, imports, numerical stability, performance\n",
    "4. **Code Optimization** - Constant precomputation, vectorization hints\n",
    "5. **Test Generation** - Automatic pytest test cases\n",
    "6. **Benchmark Generation** - Performance measurement code\n",
    "7. **Documentation** - Comprehensive docstrings and type hints\n",
    "8. **Integration** - Works seamlessly with ErrorPatternAnalyzer\n",
    "\n",
    "### When to Use\n",
    "\n",
    "- After discovering corrections with ErrorPatternAnalyzer\n",
    "- When optimizing mathematical formulas\n",
    "- To generate production-ready code from prototypes\n",
    "- To create well-documented, tested formula implementations\n",
    "- To save hours of manual code writing\n",
    "\n",
    "### The Complete Pipeline\n",
    "\n",
    "```python\n",
    "# 1. Profile performance\n",
    "profiler = PerformanceProfiler()\n",
    "bottlenecks = profiler.identify_bottlenecks()\n",
    "\n",
    "# 2. Discover corrections\n",
    "analyzer = ErrorPatternAnalyzer(actual, predicted, x)\n",
    "report = analyzer.analyze_all()\n",
    "\n",
    "# 3. Generate production code\n",
    "generator = FormulaCodeGenerator(base_formula, name)\n",
    "for correction in report.suggestions:\n",
    "    generator.add_correction(correction)\n",
    "generator.export_to_file(\"improved_formula.py\", format=\"module\")\n",
    "```\n",
    "\n",
    "**Key Insight**: Once you've discovered the formula, writing the code should be automatic!"
   ]
  }
 ],
 "metadata": {
  "kernelspec": {
   "display_name": "Python 3",
   "language": "python",
   "name": "python3"
  },
  "language_info": {
   "codemirror_mode": {
    "name": "ipython",
    "version": 3
   },
   "file_extension": ".py",
   "mimetype": "text/x-python",
   "name": "python",
   "nbconvert_exporter": "python",
   "pygments_lexer": "ipython3",
   "version": "3.12.0"
  }
 },
 "nbformat": 4,
 "nbformat_minor": 4
}
