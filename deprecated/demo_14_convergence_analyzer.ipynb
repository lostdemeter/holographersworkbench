{
 "cells": [
  {
   "cell_type": "markdown",
   "metadata": {},
   "source": [
    "# Demo 14: Convergence Analyzer\n",
    "\n",
    "This notebook demonstrates the **Convergence Analyzer** for detecting when to stop iterative optimization.\n",
    "\n",
    "## Why This Tool Exists\n",
    "\n",
    "During optimization of `fast_zetas.py`, we:\n",
    "- Applied 5 layers of corrections recursively\n",
    "- **Manually** checked RMSE improvement after each layer\n",
    "- **Manually** decided when improvement was \"good enough\"\n",
    "- Had no systematic way to detect diminishing returns\n",
    "\n",
    "This tool **automates that decision**.\n",
    "\n",
    "## The Complete Optimization Toolkit\n",
    "\n",
    "1. **Performance Profiler** → Identify bottlenecks\n",
    "2. **Error Pattern Visualizer** → Discover corrections\n",
    "3. **Formula Code Generator** → Generate production code\n",
    "4. **Convergence Analyzer** → Decide when to stop ← **You are here**\n",
    "\n",
    "## Key Insight\n",
    "\n",
    "**Knowing when to stop is as important as knowing how to optimize.**"
   ]
  },
  {
   "cell_type": "code",
   "execution_count": null,
   "metadata": {},
   "outputs": [],
   "source": [
    "import sys\n",
    "sys.path.append('..')\n",
    "\n",
    "import numpy as np\n",
    "import matplotlib.pyplot as plt\n",
    "from convergence_analyzer import (\n",
    "    ConvergenceAnalyzer,\n",
    "    ConvergenceVisualizer\n",
    ")\n",
    "\n",
    "print(\"✓ Imports successful\")"
   ]
  },
  {
   "cell_type": "markdown",
   "metadata": {},
   "source": [
    "## 1. Basic Convergence Analysis\n",
    "\n",
    "Analyze a simple optimization history."
   ]
  },
  {
   "cell_type": "code",
   "execution_count": null,
   "metadata": {},
   "outputs": [],
   "source": [
    "# Simple RMSE history\n",
    "rmse_history = [0.5, 0.3, 0.2, 0.15, 0.12, 0.10]\n",
    "\n",
    "analyzer = ConvergenceAnalyzer(\n",
    "    metric_history=rmse_history,\n",
    "    metric_name=\"RMSE\",\n",
    "    lower_is_better=True\n",
    ")\n",
    "\n",
    "report = analyzer.analyze()\n",
    "report.print_summary()"
   ]
  },
  {
   "cell_type": "markdown",
   "metadata": {},
   "source": [
    "## 2. Real-World Example: Fast Zetas\n",
    "\n",
    "Analyze the actual convergence from fast_zetas optimization."
   ]
  },
  {
   "cell_type": "code",
   "execution_count": null,
   "metadata": {},
   "outputs": [],
   "source": [
    "# Actual RMSE history from fast_zetas\n",
    "fast_zetas_rmse = [0.512, 0.261, 0.145, 0.089, 0.056, 0.034]\n",
    "\n",
    "analyzer = ConvergenceAnalyzer(\n",
    "    metric_history=fast_zetas_rmse,\n",
    "    metric_name=\"RMSE\",\n",
    "    lower_is_better=True,\n",
    "    target_metric=0.01\n",
    ")\n",
    "\n",
    "report = analyzer.analyze()\n",
    "report.print_summary()\n",
    "\n",
    "print(f\"\\n✓ Total improvement: {report.total_improvement:.1%}\")\n",
    "print(f\"✓ Convergence model: {report.convergence_rate.model_type}\")\n",
    "print(f\"✓ Should stop: {report.stopping_recommendation.should_stop}\")"
   ]
  },
  {
   "cell_type": "markdown",
   "metadata": {},
   "source": [
    "## 3. Predict Future Improvements\n",
    "\n",
    "Estimate what would happen if we continue optimizing."
   ]
  },
  {
   "cell_type": "code",
   "execution_count": null,
   "metadata": {},
   "outputs": [],
   "source": [
    "# Predict next 10 iterations\n",
    "future_iters, future_rmse = analyzer.predict_future_improvements(n_future=10)\n",
    "\n",
    "print(f\"Current RMSE: {fast_zetas_rmse[-1]:.6f}\")\n",
    "print(f\"\\nPredicted future RMSE:\")\n",
    "for i, (iter_num, rmse) in enumerate(zip(future_iters[:5], future_rmse[:5]), 1):\n",
    "    improvement = (fast_zetas_rmse[-1] - rmse) / fast_zetas_rmse[-1]\n",
    "    print(f\"  +{i} layers: {rmse:.6f} (improvement: {improvement:.1%})\")\n",
    "\n",
    "print(f\"\\nAfter 10 more layers: {future_rmse[-1]:.6f}\")\n",
    "total_improvement = (fast_zetas_rmse[-1] - future_rmse[-1]) / fast_zetas_rmse[-1]\n",
    "print(f\"Total additional improvement: {total_improvement:.1%}\")"
   ]
  },
  {
   "cell_type": "markdown",
   "metadata": {},
   "source": [
    "## 4. Detect Diminishing Returns\n",
    "\n",
    "Find when improvements become negligible."
   ]
  },
  {
   "cell_type": "code",
   "execution_count": null,
   "metadata": {},
   "outputs": [],
   "source": [
    "# Detect with different thresholds\n",
    "for threshold in [0.05, 0.02, 0.01]:\n",
    "    dr = analyzer.detect_diminishing_returns(threshold=threshold)\n",
    "    if dr:\n",
    "        print(f\"Threshold {threshold:.0%}: {dr.describe()}\")\n",
    "    else:\n",
    "        print(f\"Threshold {threshold:.0%}: No diminishing returns detected\")"
   ]
  },
  {
   "cell_type": "markdown",
   "metadata": {},
   "source": [
    "## 5. Cost-Benefit Analysis\n",
    "\n",
    "Include iteration costs for economic analysis."
   ]
  },
  {
   "cell_type": "code",
   "execution_count": null,
   "metadata": {},
   "outputs": [],
   "source": [
    "# Iteration costs (e.g., computation time in seconds)\n",
    "costs = [1.0, 1.2, 1.5, 2.0, 2.8, 4.0]\n",
    "\n",
    "analyzer_with_costs = ConvergenceAnalyzer(\n",
    "    metric_history=fast_zetas_rmse,\n",
    "    metric_name=\"RMSE\",\n",
    "    lower_is_better=True,\n",
    "    iteration_costs=costs\n",
    ")\n",
    "\n",
    "report = analyzer_with_costs.analyze()\n",
    "\n",
    "print(f\"Total cost: {report.total_cost:.2f} seconds\")\n",
    "print(f\"\\nCost-benefit ratios:\")\n",
    "if report.cost_benefit_ratios is not None:\n",
    "    for i, ratio in enumerate(report.cost_benefit_ratios, 1):\n",
    "        if np.isfinite(ratio):\n",
    "            print(f\"  Layer {i}: {ratio:.2f} seconds per unit improvement\")"
   ]
  },
  {
   "cell_type": "markdown",
   "metadata": {},
   "source": [
    "## 6. Visualize Convergence\n",
    "\n",
    "Plot convergence curves with predictions."
   ]
  },
  {
   "cell_type": "code",
   "execution_count": null,
   "metadata": {},
   "outputs": [],
   "source": [
    "visualizer = ConvergenceVisualizer(analyzer)\n",
    "\n",
    "fig, ax = plt.subplots(figsize=(12, 6))\n",
    "visualizer.plot_convergence_curve(ax, show_prediction=True)\n",
    "plt.tight_layout()\n",
    "plt.show()"
   ]
  },
  {
   "cell_type": "markdown",
   "metadata": {},
   "source": [
    "## 7. Improvement Rates\n",
    "\n",
    "Visualize how improvement rate changes over iterations."
   ]
  },
  {
   "cell_type": "code",
   "execution_count": null,
   "metadata": {},
   "outputs": [],
   "source": [
    "fig, ax = plt.subplots(figsize=(12, 6))\n",
    "visualizer.plot_improvement_rates(ax)\n",
    "plt.tight_layout()\n",
    "plt.show()\n",
    "\n",
    "# Print improvement rates\n",
    "improvements = analyzer.compute_improvement_rates()\n",
    "print(\"\\nImprovement rates:\")\n",
    "for i, rate in enumerate(improvements, 1):\n",
    "    print(f\"  Layer {i}: {rate:.2%}\")"
   ]
  },
  {
   "cell_type": "markdown",
   "metadata": {},
   "source": [
    "## 8. Compare Different Strategies\n",
    "\n",
    "Compare convergence of multiple optimization approaches."
   ]
  },
  {
   "cell_type": "code",
   "execution_count": null,
   "metadata": {},
   "outputs": [],
   "source": [
    "# Simulate different strategies\n",
    "strategy_a = [0.5, 0.25, 0.15, 0.10, 0.08, 0.07]  # Fast initial, then slow\n",
    "strategy_b = [0.5, 0.4, 0.3, 0.2, 0.1, 0.05]      # Steady improvement\n",
    "strategy_c = [0.5, 0.45, 0.42, 0.40, 0.39, 0.38]  # Slow convergence\n",
    "\n",
    "analyzer_a = ConvergenceAnalyzer(strategy_a, \"RMSE\")\n",
    "analyzer_b = ConvergenceAnalyzer(strategy_b, \"RMSE\")\n",
    "analyzer_c = ConvergenceAnalyzer(strategy_c, \"RMSE\")\n",
    "\n",
    "# Plot comparison\n",
    "fig, ax = plt.subplots(figsize=(12, 7))\n",
    "\n",
    "for analyzer, name, color in [(analyzer_a, \"Strategy A\", 'blue'),\n",
    "                               (analyzer_b, \"Strategy B\", 'green'),\n",
    "                               (analyzer_c, \"Strategy C\", 'red')]:\n",
    "    ax.plot(analyzer.iterations, analyzer.metric_history, \n",
    "            'o-', label=name, linewidth=2, markersize=6, color=color)\n",
    "\n",
    "ax.set_xlabel('Iteration', fontsize=12)\n",
    "ax.set_ylabel('RMSE', fontsize=12)\n",
    "ax.set_title('Convergence Comparison', fontsize=14, fontweight='bold')\n",
    "ax.legend()\n",
    "ax.grid(True, alpha=0.3)\n",
    "plt.tight_layout()\n",
    "plt.show()\n",
    "\n",
    "# Compare final results\n",
    "print(\"\\nFinal comparison:\")\n",
    "for analyzer, name in [(analyzer_a, \"Strategy A\"),\n",
    "                       (analyzer_b, \"Strategy B\"),\n",
    "                       (analyzer_c, \"Strategy C\")]:\n",
    "    report = analyzer.analyze()\n",
    "    print(f\"  {name}: {report.convergence_rate.model_type}, \"\n",
    "          f\"improvement: {report.total_improvement:.1%}, \"\n",
    "          f\"should stop: {report.stopping_recommendation.should_stop}\")"
   ]
  },
  {
   "cell_type": "markdown",
   "metadata": {},
   "source": [
    "## 9. Real-Time Monitoring\n",
    "\n",
    "Simulate real-time convergence monitoring during optimization."
   ]
  },
  {
   "cell_type": "code",
   "execution_count": null,
   "metadata": {},
   "outputs": [],
   "source": [
    "# Simulate optimization loop\n",
    "print(\"Simulating optimization with convergence monitoring:\\n\")\n",
    "\n",
    "rmse_history = []\n",
    "true_history = [0.5, 0.3, 0.2, 0.15, 0.13, 0.12, 0.115, 0.113, 0.112, 0.111]\n",
    "\n",
    "for i, rmse in enumerate(true_history):\n",
    "    rmse_history.append(rmse)\n",
    "    print(f\"Iteration {i}: RMSE = {rmse:.6f}\")\n",
    "    \n",
    "    # Check convergence after 3 iterations\n",
    "    if len(rmse_history) >= 3:\n",
    "        analyzer = ConvergenceAnalyzer(rmse_history, \"RMSE\")\n",
    "        report = analyzer.analyze()\n",
    "        \n",
    "        print(f\"  → Predicted improvement: {report.stopping_recommendation.predicted_improvement:.2%}\")\n",
    "        \n",
    "        if report.stopping_recommendation.should_stop:\n",
    "            print(f\"\\n✓ STOPPING: {report.stopping_recommendation.reason}\")\n",
    "            print(f\"  Confidence: {report.stopping_recommendation.confidence:.0%}\")\n",
    "            break\n",
    "    \n",
    "    print()\n",
    "\n",
    "print(f\"\\nFinal RMSE: {rmse_history[-1]:.6f}\")\n",
    "print(f\"Total iterations: {len(rmse_history)}\")"
   ]
  },
  {
   "cell_type": "markdown",
   "metadata": {},
   "source": [
    "## 10. Integration with Error Pattern Analyzer\n",
    "\n",
    "Use convergence analysis during recursive refinement."
   ]
  },
  {
   "cell_type": "code",
   "execution_count": null,
   "metadata": {},
   "outputs": [],
   "source": [
    "from error_pattern_visualizer import ErrorPatternAnalyzer\n",
    "\n",
    "# Create synthetic error\n",
    "x = np.linspace(0, 10, 100)\n",
    "actual = np.sin(x) + 0.1*x + 0.05*x**2\n",
    "predicted = np.sin(x)\n",
    "\n",
    "# Recursive refinement with convergence monitoring\n",
    "analyzer = ErrorPatternAnalyzer(actual, predicted, x)\n",
    "rmse_history = [analyzer.rmse]\n",
    "\n",
    "print(\"Recursive refinement with convergence monitoring:\\n\")\n",
    "print(f\"Initial RMSE: {analyzer.rmse:.6f}\")\n",
    "\n",
    "for layer in range(10):\n",
    "    report = analyzer.analyze_all()\n",
    "    if len(report.suggestions) == 0:\n",
    "        print(\"\\nNo more corrections available\")\n",
    "        break\n",
    "    \n",
    "    analyzer = analyzer.apply_correction(report.suggestions[0])\n",
    "    rmse_history.append(analyzer.rmse)\n",
    "    \n",
    "    print(f\"Layer {layer+1}: RMSE = {analyzer.rmse:.6f}\")\n",
    "    \n",
    "    # Check convergence\n",
    "    if len(rmse_history) >= 3:\n",
    "        conv_analyzer = ConvergenceAnalyzer(rmse_history, \"RMSE\")\n",
    "        conv_report = conv_analyzer.analyze()\n",
    "        \n",
    "        if conv_report.stopping_recommendation.should_stop:\n",
    "            print(f\"\\n✓ Convergence analyzer recommends stopping:\")\n",
    "            print(f\"  {conv_report.stopping_recommendation.reason}\")\n",
    "            break\n",
    "\n",
    "print(f\"\\nFinal RMSE: {rmse_history[-1]:.6f}\")\n",
    "print(f\"Total layers: {len(rmse_history)}\")\n",
    "print(f\"Improvement: {(rmse_history[0] - rmse_history[-1]) / rmse_history[0]:.1%}\")"
   ]
  },
  {
   "cell_type": "markdown",
   "metadata": {},
   "source": [
    "## Summary\n",
    "\n",
    "The Convergence Analyzer provides:\n",
    "\n",
    "1. **Convergence Detection** - Exponential, power law, linear, logarithmic\n",
    "2. **Diminishing Returns** - Automatic threshold detection\n",
    "3. **Future Prediction** - Extrapolate future improvements\n",
    "4. **Stopping Recommendations** - Confident, actionable advice\n",
    "5. **Cost-Benefit Analysis** - Economic optimization\n",
    "6. **Visualization** - Clear convergence plots\n",
    "7. **Real-Time Monitoring** - Use during optimization loops\n",
    "8. **Integration** - Works with ErrorPatternAnalyzer\n",
    "\n",
    "### When to Use\n",
    "\n",
    "- During recursive formula refinement\n",
    "- In iterative algorithm optimization\n",
    "- When applying multiple correction layers\n",
    "- To prevent over-optimization\n",
    "- To save computation time\n",
    "\n",
    "### The Complete Toolkit\n",
    "\n",
    "```python\n",
    "# 1. Profile performance\n",
    "profiler = PerformanceProfiler()\n",
    "bottlenecks = profiler.identify_bottlenecks()\n",
    "\n",
    "# 2. Discover corrections\n",
    "analyzer = ErrorPatternAnalyzer(actual, predicted, x)\n",
    "report = analyzer.analyze_all()\n",
    "\n",
    "# 3. Generate production code\n",
    "generator = FormulaCodeGenerator(base_formula, name)\n",
    "for correction in report.suggestions:\n",
    "    generator.add_correction(correction)\n",
    "generator.export_to_file(\"improved_formula.py\")\n",
    "\n",
    "# 4. Monitor convergence\n",
    "conv_analyzer = ConvergenceAnalyzer(rmse_history, \"RMSE\")\n",
    "if conv_analyzer.analyze().stopping_recommendation.should_stop:\n",
    "    print(\"Optimization complete!\")\n",
    "```\n",
    "\n",
    "**Key Insight**: Knowing when to stop is as important as knowing how to optimize!"
   ]
  }
 ],
 "metadata": {
  "kernelspec": {
   "display_name": "Python 3",
   "language": "python",
   "name": "python3"
  },
  "language_info": {
   "codemirror_mode": {
    "name": "ipython",
    "version": 3
   },
   "file_extension": ".py",
   "mimetype": "text/x-python",
   "name": "python",
   "nbconvert_exporter": "python",
   "pygments_lexer": "ipython3",
   "version": "3.12.0"
  }
 },
 "nbformat": 4,
 "nbformat_minor": 4
}
