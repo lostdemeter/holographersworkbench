{
 "cells": [
  {
   "cell_type": "markdown",
   "metadata": {},
   "source": [
    "# Demo 16: Ergodic Jump - Jump Sequence Diagnostics\n",
    "\n",
    "Uncover hidden structure in ergodic (fully mixed, high-entropy) signals by injecting targeted harmonics to induce non-ergodic \"stickiness,\" then peeling to extract the resonant filament.\n",
    "\n",
    "**Like uncoiling a quantum yo-yo**: inject a harmonic into chaotic noise, then recursively peel to yank out the filament, exposing its resonant scar while collapsing noise layers.\n",
    "\n",
    "## Key Concepts\n",
    "\n",
    "1. **Ergodic Signal**: Fully mixed, white-noise chaotic (uniform entropy)\n",
    "2. **Harmonic Injection**: Add low-frequency sine (e.g., 1/φ rhythm) to break ergodicity\n",
    "3. **Ergodic Jump**: Recursive peeling extracts the injected filament\n",
    "4. **Metrics**: resfrac drops to ~10⁻⁴, Hurst spikes to ~0.72 reveal structure"
   ]
  },
  {
   "cell_type": "code",
   "execution_count": null,
   "metadata": {},
   "outputs": [],
   "source": [
    "import numpy as np\n",
    "import matplotlib.pyplot as plt\n",
    "import sys\n",
    "sys.path.insert(0, '..')\n",
    "\n",
    "from ergodic_jump import ErgodicJump\n",
    "\n",
    "# Set random seed for reproducibility\n",
    "np.random.seed(42)"
   ]
  },
  {
   "cell_type": "markdown",
   "metadata": {},
   "source": [
    "## 1. Initialize Ergodic Jump Analyzer\n",
    "\n",
    "Use golden ratio inverse (1/√5 ≈ 0.447) as the injection frequency."
   ]
  },
  {
   "cell_type": "code",
   "execution_count": null,
   "metadata": {},
   "outputs": [],
   "source": [
    "# Initialize with golden ratio frequency\n",
    "jump = ErgodicJump(injection_freq=1/np.sqrt(5), amp=0.15)\n",
    "\n",
    "print(f\"Injection frequency: {jump.injection_freq:.4f}\")\n",
    "print(f\"Amplitude: {jump.amp}\")\n",
    "print(f\"Max peel depth: {jump.max_depth}\")"
   ]
  },
  {
   "cell_type": "markdown",
   "metadata": {},
   "source": [
    "## 2. Test on Pure Ergodic Signal (White Noise)\n",
    "\n",
    "Start with truly random white noise to establish baseline behavior."
   ]
  },
  {
   "cell_type": "code",
   "execution_count": null,
   "metadata": {},
   "outputs": [],
   "source": [
    "# Generate pure ergodic signal\n",
    "ergodic_signal = np.random.randn(1024)\n",
    "\n",
    "# Execute ergodic jump\n",
    "result = jump.execute(ergodic_signal)\n",
    "\n",
    "print(\"\\n\" + \"=\"*60)\n",
    "print(\"PURE ERGODIC SIGNAL (White Noise)\")\n",
    "print(\"=\"*60)\n",
    "print(f\"\\nBaseline metrics:\")\n",
    "print(f\"  Resfrac: {result['base_resfrac']:.6f}\")\n",
    "print(f\"  Hurst: {result['base_hurst']:.4f}\")\n",
    "\n",
    "print(f\"\\nAfter injection:\")\n",
    "print(f\"  Resfrac: {result['injected_resfrac']:.6f}\")\n",
    "print(f\"  Hurst: {result['injected_hurst']:.4f}\")\n",
    "\n",
    "print(f\"\\nJump metrics:\")\n",
    "print(f\"  Resfrac drop: {result['resfrac_drop']:.6f}\")\n",
    "print(f\"  Hurst shift: {result['hurst_shift']:.4f}\")\n",
    "print(f\"  Filament length: {len(result['filament'])}\")\n",
    "\n",
    "if result['hurst_shift'] > 0.1:\n",
    "    print(f\"  ✓ Non-ergodic structure detected!\")\n",
    "else:\n",
    "    print(f\"  ~ Weak structure (expected for pure noise)\")"
   ]
  },
  {
   "cell_type": "markdown",
   "metadata": {},
   "source": [
    "## 3. Test on Pre-Structured Signal\n",
    "\n",
    "Add a low-frequency sine wave to see how the jump responds to existing structure."
   ]
  },
  {
   "cell_type": "code",
   "execution_count": null,
   "metadata": {},
   "outputs": [],
   "source": [
    "# Generate structured signal (low-freq sine + noise)\n",
    "t = np.arange(1024)\n",
    "structured_signal = np.sin(2 * np.pi * 0.01 * t) + 0.3 * np.random.randn(1024)\n",
    "\n",
    "# Execute ergodic jump\n",
    "result2 = jump.execute(structured_signal)\n",
    "\n",
    "print(\"\\n\" + \"=\"*60)\n",
    "print(\"PRE-STRUCTURED SIGNAL (Low-freq sine + noise)\")\n",
    "print(\"=\"*60)\n",
    "print(f\"\\nBaseline metrics:\")\n",
    "print(f\"  Resfrac: {result2['base_resfrac']:.6f}\")\n",
    "print(f\"  Hurst: {result2['base_hurst']:.4f}\")\n",
    "\n",
    "print(f\"\\nJump metrics:\")\n",
    "print(f\"  Resfrac drop: {result2['resfrac_drop']:.6f}\")\n",
    "print(f\"  Hurst shift: {result2['hurst_shift']:.4f}\")\n",
    "\n",
    "if abs(result2['hurst_shift']) > abs(result['hurst_shift']):\n",
    "    print(f\"  ✓ Stronger response to injection (pre-existing structure)\")"
   ]
  },
  {
   "cell_type": "markdown",
   "metadata": {},
   "source": [
    "## 4. Visualize Signals and Filaments"
   ]
  },
  {
   "cell_type": "code",
   "execution_count": null,
   "metadata": {},
   "outputs": [],
   "source": [
    "fig, axes = plt.subplots(2, 2, figsize=(14, 10))\n",
    "\n",
    "# Plot 1: Ergodic signal\n",
    "axes[0, 0].plot(ergodic_signal[:200], alpha=0.7, label='Ergodic')\n",
    "axes[0, 0].set_title('Pure Ergodic Signal (White Noise)')\n",
    "axes[0, 0].set_xlabel('Sample')\n",
    "axes[0, 0].set_ylabel('Amplitude')\n",
    "axes[0, 0].legend()\n",
    "axes[0, 0].grid(True, alpha=0.3)\n",
    "\n",
    "# Plot 2: Ergodic filament\n",
    "if len(result['filament']) > 0:\n",
    "    axes[0, 1].plot(result['filament'], alpha=0.7, color='red', label='Filament')\n",
    "    axes[0, 1].set_title(f'Extracted Filament (Hurst shift: {result[\"hurst_shift\"]:.3f})')\n",
    "    axes[0, 1].set_xlabel('Sample')\n",
    "    axes[0, 1].set_ylabel('Amplitude')\n",
    "    axes[0, 1].legend()\n",
    "    axes[0, 1].grid(True, alpha=0.3)\n",
    "\n",
    "# Plot 3: Structured signal\n",
    "axes[1, 0].plot(structured_signal[:200], alpha=0.7, label='Structured', color='green')\n",
    "axes[1, 0].set_title('Pre-Structured Signal (Sine + Noise)')\n",
    "axes[1, 0].set_xlabel('Sample')\n",
    "axes[1, 0].set_ylabel('Amplitude')\n",
    "axes[1, 0].legend()\n",
    "axes[1, 0].grid(True, alpha=0.3)\n",
    "\n",
    "# Plot 4: Structured filament\n",
    "if len(result2['filament']) > 0:\n",
    "    axes[1, 1].plot(result2['filament'], alpha=0.7, color='orange', label='Filament')\n",
    "    axes[1, 1].set_title(f'Extracted Filament (Hurst shift: {result2[\"hurst_shift\"]:.3f})')\n",
    "    axes[1, 1].set_xlabel('Sample')\n",
    "    axes[1, 1].set_ylabel('Amplitude')\n",
    "    axes[1, 1].legend()\n",
    "    axes[1, 1].grid(True, alpha=0.3)\n",
    "\n",
    "plt.tight_layout()\n",
    "plt.show()"
   ]
  },
  {
   "cell_type": "markdown",
   "metadata": {},
   "source": [
    "## 5. Ergodicity Diagnosis\n",
    "\n",
    "Use the built-in diagnostic to automatically determine if a signal is ergodic."
   ]
  },
  {
   "cell_type": "code",
   "execution_count": null,
   "metadata": {},
   "outputs": [],
   "source": [
    "# Diagnose white noise\n",
    "diag1 = jump.diagnose_ergodicity(ergodic_signal)\n",
    "\n",
    "print(\"\\n\" + \"=\"*60)\n",
    "print(\"ERGODICITY DIAGNOSIS\")\n",
    "print(\"=\"*60)\n",
    "\n",
    "print(f\"\\nWhite noise:\")\n",
    "print(f\"  Is ergodic: {diag1['is_ergodic']}\")\n",
    "print(f\"  Confidence: {diag1['confidence']:.2f}\")\n",
    "print(f\"  Hurst: {diag1['hurst']:.4f}\")\n",
    "print(f\"  Recommendation: {diag1['recommendation']}\")\n",
    "\n",
    "# Diagnose structured signal\n",
    "diag2 = jump.diagnose_ergodicity(structured_signal)\n",
    "\n",
    "print(f\"\\nStructured signal:\")\n",
    "print(f\"  Is ergodic: {diag2['is_ergodic']}\")\n",
    "print(f\"  Confidence: {diag2['confidence']:.2f}\")\n",
    "print(f\"  Hurst: {diag2['hurst']:.4f}\")\n",
    "print(f\"  Recommendation: {diag2['recommendation']}\")"
   ]
  },
  {
   "cell_type": "markdown",
   "metadata": {},
   "source": [
    "## 6. Comparison: Hurst Exponent Shifts\n",
    "\n",
    "Visualize how the Hurst exponent changes with injection."
   ]
  },
  {
   "cell_type": "code",
   "execution_count": null,
   "metadata": {},
   "outputs": [],
   "source": [
    "# Compare Hurst shifts\n",
    "signals = ['White Noise', 'Structured']\n",
    "base_hursts = [result['base_hurst'], result2['base_hurst']]\n",
    "injected_hursts = [result['injected_hurst'], result2['injected_hurst']]\n",
    "\n",
    "x = np.arange(len(signals))\n",
    "width = 0.35\n",
    "\n",
    "fig, ax = plt.subplots(figsize=(10, 6))\n",
    "bars1 = ax.bar(x - width/2, base_hursts, width, label='Baseline', alpha=0.8)\n",
    "bars2 = ax.bar(x + width/2, injected_hursts, width, label='After Injection', alpha=0.8)\n",
    "\n",
    "# Add reference line at H=0.5 (ergodic)\n",
    "ax.axhline(y=0.5, color='red', linestyle='--', alpha=0.5, label='Ergodic (H=0.5)')\n",
    "\n",
    "ax.set_ylabel('Hurst Exponent')\n",
    "ax.set_title('Hurst Exponent: Baseline vs After Injection')\n",
    "ax.set_xticks(x)\n",
    "ax.set_xticklabels(signals)\n",
    "ax.legend()\n",
    "ax.grid(True, alpha=0.3, axis='y')\n",
    "\n",
    "plt.tight_layout()\n",
    "plt.show()\n",
    "\n",
    "print(f\"\\nHurst shifts:\")\n",
    "print(f\"  White noise: {result['hurst_shift']:+.4f}\")\n",
    "print(f\"  Structured: {result2['hurst_shift']:+.4f}\")"
   ]
  },
  {
   "cell_type": "markdown",
   "metadata": {},
   "source": [
    "## 7. Use Case: Error Residual Analysis\n",
    "\n",
    "Demonstrate using ergodic jump to detect hidden patterns in \"random\" error residuals."
   ]
  },
  {
   "cell_type": "code",
   "execution_count": null,
   "metadata": {},
   "outputs": [],
   "source": [
    "# Simulate error residuals with hidden bias\n",
    "true_errors = np.random.randn(1024)\n",
    "hidden_bias = 0.05 * np.sin(2 * np.pi * 0.005 * np.arange(1024))  # Very subtle\n",
    "biased_errors = true_errors + hidden_bias\n",
    "\n",
    "# Diagnose both\n",
    "diag_true = jump.diagnose_ergodicity(true_errors)\n",
    "diag_biased = jump.diagnose_ergodicity(biased_errors)\n",
    "\n",
    "print(\"\\n\" + \"=\"*60)\n",
    "print(\"ERROR RESIDUAL ANALYSIS\")\n",
    "print(\"=\"*60)\n",
    "\n",
    "print(f\"\\nTrue random errors:\")\n",
    "print(f\"  Is ergodic: {diag_true['is_ergodic']}\")\n",
    "print(f\"  Confidence: {diag_true['confidence']:.2f}\")\n",
    "\n",
    "print(f\"\\nBiased errors (hidden pattern):\")\n",
    "print(f\"  Is ergodic: {diag_biased['is_ergodic']}\")\n",
    "print(f\"  Confidence: {diag_biased['confidence']:.2f}\")\n",
    "print(f\"  Hurst shift: {diag_biased['hurst_shift']:+.4f}\")\n",
    "\n",
    "if not diag_biased['is_ergodic']:\n",
    "    print(f\"\\n  ⚠️  Hidden bias detected! {diag_biased['recommendation']}\")"
   ]
  },
  {
   "cell_type": "markdown",
   "metadata": {},
   "source": [
    "## Summary\n",
    "\n",
    "**Ergodic Jump** reveals hidden structure in \"random\" signals:\n",
    "\n",
    "- ✓ Hurst shift >0.1 indicates non-ergodic persistence\n",
    "- ✓ Resfrac drop >0.05 suggests pullable structure\n",
    "- ✓ Filament extraction enables targeted refinement\n",
    "- ✓ Diagnostic mode for automatic ergodicity testing\n",
    "\n",
    "**Applications:**\n",
    "- Uncover latent biases in \"random\" errors\n",
    "- Stress-test ergodicity in zeta clocks\n",
    "- Enhance holographic refinement with filaments\n",
    "- Detect hidden harmonics in residuals\n",
    "\n",
    "🧵 **Quantum yo-yo uncoiled!** 🧵"
   ]
  }
 ],
 "metadata": {
  "kernelspec": {
   "display_name": "Python 3",
   "language": "python",
   "name": "python3"
  },
  "language_info": {
   "codemirror_mode": {
    "name": "ipython",
    "version": 3
   },
   "file_extension": ".py",
   "mimetype": "text/x-python",
   "name": "python",
   "nbconvert_exporter": "python",
   "pygments_lexer": "ipython3",
   "version": "3.10.0"
  }
 },
 "nbformat": 4,
 "nbformat_minor": 4
}
