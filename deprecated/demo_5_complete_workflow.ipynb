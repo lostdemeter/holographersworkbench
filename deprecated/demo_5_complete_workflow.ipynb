{
 "cells": [
  {
   "cell_type": "markdown",
   "metadata": {},
   "source": [
    "# Demo 5: Complete Workflow\n",
    "\n",
    "End-to-end: Spectral scoring → Holographic refinement → Sublinear optimization on 5k candidates.\n",
    "\n",
    "**Key Concepts:**\n",
    "- Chain all modules.\n",
    "- Find top-50 with full stats.\n",
    "- Summarize techniques used."
   ]
  },
  {
   "cell_type": "code",
   "execution_count": null,
   "metadata": {},
   "outputs": [],
   "source": [
    "import numpy as np\n",
    "from workbench import (\n",
    "    ZetaFiducials, SpectralScorer,\n",
    "    holographic_refinement, normalize_signal,\n",
    "    SublinearOptimizer\n",
    ")\n",
    "\n",
    "print('=' * 70)\n",
    "print('DEMO 5: COMPLETE WORKFLOW')\n",
    "print('=' * 70)\n",
    "print('Task: Find best 50 candidates from 5000 using all techniques')\n",
    "print()"
   ]
  },
  {
   "cell_type": "code",
   "execution_count": null,
   "metadata": {},
   "outputs": [],
   "source": [
    "# Setup\n",
    "n = 5000\n",
    "candidates = np.arange(n)\n",
    "\n",
    "# Step 1: Spectral scoring\n",
    "print('Step 1: Spectral scoring with zeta zeros...')\n",
    "zeros = ZetaFiducials.get_standard(15)\n",
    "scorer = SpectralScorer(frequencies=zeros, damping=0.05)\n",
    "spectral_scores = scorer.compute_scores(candidates, shift=0.05, mode='real')\n",
    "print('  ✓ Computed spectral scores')"
   ]
  },
  {
   "cell_type": "code",
   "execution_count": null,
   "metadata": {},
   "outputs": [],
   "source": [
    "# Step 2: Define reference baseline\n",
    "print('\\nStep 2: Computing reference baseline...')\n",
    "reference = 1.0 / (np.log(candidates + 2) + 1e-12)\n",
    "reference = normalize_signal(reference, method='max')\n",
    "print('  ✓ Reference baseline ready')"
   ]
  },
  {
   "cell_type": "code",
   "execution_count": null,
   "metadata": {},
   "outputs": [],
   "source": [
    "# Step 3: Holographic refinement\n",
    "print('\\nStep 3: Holographic refinement...')\n",
    "refined_scores = holographic_refinement(\n",
    "    spectral_scores,\n",
    "    reference,\n",
    "    method='hilbert',\n",
    "    blend_ratio=0.6\n",
    ")\n",
    "print('  ✓ Scores refined using phase retrieval')"
   ]
  },
  {
   "cell_type": "code",
   "execution_count": null,
   "metadata": {},
   "outputs": [],
   "source": [
    "# Step 4: Sublinear optimization\n",
    "print('\\nStep 4: Sublinear optimization...')\n",
    "optimizer = SublinearOptimizer(use_holographic=False)  # Already refined\n",
    "\n",
    "def score_fn(cands):\n",
    "    return refined_scores[cands]\n",
    "\n",
    "top_50, stats = optimizer.optimize(\n",
    "    candidates,\n",
    "    score_fn,\n",
    "    top_k=50\n",
    ")\n",
    "print('  ✓ Optimized to top 50')"
   ]
  },
  {
   "cell_type": "code",
   "execution_count": null,
   "metadata": {},
   "outputs": [],
   "source": [
    "# Results\n",
    "print('\\n' + '-' * 70)\n",
    "print('RESULTS')\n",
    "print('-' * 70)\n",
    "print(f'Original candidates: {stats.n_original:,}')\n",
    "print(f'Final candidates: {stats.n_final}')\n",
    "print(f'Reduction: {(1 - stats.reduction_ratio) * 100:.1f}%')\n",
    "print(f'Complexity: {stats.complexity_estimate}')\n",
    "print(f'Time: {stats.time_elapsed:.4f}s')\n",
    "print()\n",
    "print(f'Top 10 results: {top_50[:10]}')\n",
    "print()\n",
    "print('Techniques used:')\n",
    "print('  ✓ Spectral scoring (zeta zeros)')\n",
    "print('  ✓ Phase retrieval (Hilbert transform)')\n",
    "print('  ✓ Holographic refinement (interference)')\n",
    "print('  ✓ Sublinear optimization (O(√n))')\n",
    "\n",
    "print('=' * 70)"
   ]
  },
  {
   "cell_type": "markdown",
   "metadata": {},
   "source": [
    "**Insight:** Full pipeline: 5k → 50 (99% reduction), zeta + Hilbert unlock structured insights."
   ]
  }
 ],
 "metadata": {
  "kernelspec": {
   "display_name": "Python 3",
   "language": "python",
   "name": "python3"
  },
  "language_info": {
   "codemirror_mode": {
    "name": "ipython",
    "version": 3
   },
   "file_extension": ".py",
   "mimetype": "text/x-python",
   "name": "python",
   "nbconvert_exporter": "python",
   "pygments_lexer": "ipython3",
   "version": "3.12.3"
  }
 },
 "nbformat": 4,
 "nbformat_minor": 5
}
