{
 "cells": [
  {
   "cell_type": "markdown",
   "metadata": {},
   "source": [
    "# Demo 7: Recursive Fractal Peeling\n",
    "\n",
    "This notebook demonstrates the Recursive Fractal Peeling algorithm for lossless data compression.\n",
    "\n",
    "**Key Concepts:**\n",
    "- Resfrac invariant: ρ(x) = σ(r) / σ(x) measures predictability\n",
    "- Autoregressive pattern extraction with residual analysis\n",
    "- Recursive tree structure for compression\n",
    "- Lossless reconstruction guarantee: Ψ(Φ(x)) = x\n",
    "\n",
    "Run all cells to see outputs."
   ]
  },
  {
   "cell_type": "code",
   "execution_count": null,
   "metadata": {},
   "outputs": [],
   "source": [
    "import numpy as np\n",
    "from workbench import (\n",
    "    FractalPeeler,\n",
    "    resfrac_score,\n",
    "    compress,\n",
    "    decompress,\n",
    "    compression_ratio,\n",
    "    tree_statistics,\n",
    "    visualize_tree\n",
    ")\n",
    "\n",
    "print('=' * 70)\n",
    "print('DEMO 7: RECURSIVE FRACTAL PEELING')\n",
    "print('=' * 70)"
   ]
  },
  {
   "cell_type": "markdown",
   "metadata": {},
   "source": [
    "## Part 1: Resfrac Score - Measuring Predictability"
   ]
  },
  {
   "cell_type": "code",
   "execution_count": null,
   "metadata": {},
   "outputs": [],
   "source": [
    "# Test different signal types\n",
    "n = 200\n",
    "\n",
    "# Highly structured signal (sine wave)\n",
    "structured = np.sin(np.linspace(0, 4*np.pi, n))\n",
    "rho_structured = resfrac_score(structured, order=3)\n",
    "\n",
    "# Random noise\n",
    "random = np.random.randn(n)\n",
    "rho_random = resfrac_score(random, order=3)\n",
    "\n",
    "# Mixed signal\n",
    "mixed = np.sin(np.linspace(0, 4*np.pi, n)) + 0.3 * np.random.randn(n)\n",
    "rho_mixed = resfrac_score(mixed, order=3)\n",
    "\n",
    "print('\\nResfrac Scores (ρ ∈ [0,1], lower = more predictable):')\n",
    "print(f'  Sine wave:      ρ = {rho_structured:.4f} (highly structured)')\n",
    "print(f'  Random noise:   ρ = {rho_random:.4f} (unpredictable)')\n",
    "print(f'  Sine + noise:   ρ = {rho_mixed:.4f} (mixed)')"
   ]
  },
  {
   "cell_type": "markdown",
   "metadata": {},
   "source": [
    "## Part 2: Simple Compression Example"
   ]
  },
  {
   "cell_type": "code",
   "execution_count": null,
   "metadata": {},
   "outputs": [],
   "source": [
    "# Create a structured signal with some complexity\n",
    "t = np.linspace(0, 10, 500)\n",
    "signal = np.sin(2*np.pi*t) + 0.5*np.sin(6*np.pi*t) + 0.2*np.random.randn(len(t))\n",
    "\n",
    "print(f'\\nOriginal signal: n = {len(signal)}')\n",
    "print(f'Resfrac score: ρ = {resfrac_score(signal):.4f}')\n",
    "\n",
    "# Compress\n",
    "peeler = FractalPeeler(order=4, max_depth=5)\n",
    "tree = peeler.compress(signal)\n",
    "\n",
    "# Get statistics\n",
    "stats = peeler.tree_stats(tree)\n",
    "ratio = peeler.compression_ratio(tree, len(signal))\n",
    "\n",
    "print(f'\\nCompression Results:')\n",
    "print(f'  Tree depth:     {stats[\"max_depth\"]}')\n",
    "print(f'  Internal nodes: {stats[\"num_nodes\"]}')\n",
    "print(f'  Leaf nodes:     {stats[\"num_leaves\"]}')\n",
    "print(f'  Compression:    {ratio:.2f}x')\n",
    "print(f'  Storage:        {stats[\"total_size_bytes\"]} bytes')"
   ]
  },
  {
   "cell_type": "markdown",
   "metadata": {},
   "source": [
    "## Part 3: Lossless Reconstruction"
   ]
  },
  {
   "cell_type": "code",
   "execution_count": null,
   "metadata": {},
   "outputs": [],
   "source": [
    "# Decompress\n",
    "reconstructed = peeler.decompress(tree)\n",
    "\n",
    "# Verify lossless property\n",
    "max_error = np.max(np.abs(signal - reconstructed))\n",
    "mean_error = np.mean(np.abs(signal - reconstructed))\n",
    "\n",
    "print(f'\\nReconstruction Quality:')\n",
    "print(f'  Max error:  {max_error:.2e}')\n",
    "print(f'  Mean error: {mean_error:.2e}')\n",
    "print(f'  Lossless:   {max_error < 1e-10}')\n",
    "\n",
    "if max_error < 1e-10:\n",
    "    print('\\n✓ Perfect reconstruction: Ψ(Φ(x)) = x')\n",
    "else:\n",
    "    print(f'\\n⚠ Reconstruction error: {max_error:.2e}')"
   ]
  },
  {
   "cell_type": "markdown",
   "metadata": {},
   "source": [
    "## Part 4: Tree Visualization"
   ]
  },
  {
   "cell_type": "code",
   "execution_count": null,
   "metadata": {},
   "outputs": [],
   "source": [
    "# Visualize compression tree structure\n",
    "print('\\nCompression Tree Structure:')\n",
    "print(peeler.visualize(tree))\n",
    "\n",
    "print('\\nTree Interpretation:')\n",
    "print('  NODE: Internal node with AR model + residuals')\n",
    "print('  LEAF: Terminal node with raw data')\n",
    "print('  ρ:    Resfrac score (predictability)')\n",
    "print('  Δρ:   Improvement from pattern extraction')"
   ]
  },
  {
   "cell_type": "markdown",
   "metadata": {},
   "source": [
    "## Part 5: Comparison Across Signal Types"
   ]
  },
  {
   "cell_type": "code",
   "execution_count": null,
   "metadata": {},
   "outputs": [],
   "source": [
    "# Test on different signal types\n",
    "n = 300\n",
    "peeler = FractalPeeler(order=3, max_depth=8)\n",
    "\n",
    "signals = {\n",
    "    'Sine': np.sin(np.linspace(0, 8*np.pi, n)),\n",
    "    'Polynomial': np.polyval([0.001, -0.1, 2, 10], np.arange(n)),\n",
    "    'Exponential': np.exp(np.linspace(0, 2, n)),\n",
    "    'Chirp': np.sin(np.linspace(0, 20*np.pi, n) * np.linspace(1, 3, n)),\n",
    "    'Random': np.random.randn(n)\n",
    "}\n",
    "\n",
    "print('\\nCompression Performance by Signal Type:')\n",
    "print('-' * 70)\n",
    "print(f'{\"Signal\":<15} {\"ρ\":<8} {\"Depth\":<8} {\"Nodes\":<8} {\"Ratio\":<8}')\n",
    "print('-' * 70)\n",
    "\n",
    "for name, sig in signals.items():\n",
    "    rho = resfrac_score(sig)\n",
    "    tree = peeler.compress(sig)\n",
    "    stats = peeler.tree_stats(tree)\n",
    "    ratio = peeler.compression_ratio(tree, len(sig))\n",
    "    \n",
    "    print(f'{name:<15} {rho:<8.4f} {stats[\"max_depth\"]:<8} '\n",
    "          f'{stats[\"num_nodes\"]:<8} {ratio:<8.2f}x')\n",
    "\n",
    "print('-' * 70)"
   ]
  },
  {
   "cell_type": "markdown",
   "metadata": {},
   "source": [
    "## Part 6: Advanced - Tuning Parameters"
   ]
  },
  {
   "cell_type": "code",
   "execution_count": null,
   "metadata": {},
   "outputs": [],
   "source": [
    "# Test different AR orders\n",
    "signal = np.sin(np.linspace(0, 10*np.pi, 400)) + 0.1*np.random.randn(400)\n",
    "\n",
    "print('\\nEffect of AR Model Order:')\n",
    "print('-' * 60)\n",
    "print(f'{\"Order\":<10} {\"Depth\":<10} {\"Nodes\":<10} {\"Ratio\":<10}')\n",
    "print('-' * 60)\n",
    "\n",
    "for order in [2, 3, 5, 8]:\n",
    "    peeler = FractalPeeler(order=order, max_depth=8)\n",
    "    tree = peeler.compress(signal)\n",
    "    stats = peeler.tree_stats(tree)\n",
    "    ratio = peeler.compression_ratio(tree, len(signal))\n",
    "    \n",
    "    print(f'{order:<10} {stats[\"max_depth\"]:<10} '\n",
    "          f'{stats[\"num_nodes\"]:<10} {ratio:<10.2f}x')\n",
    "\n",
    "print('-' * 60)\n",
    "print('\\nInsight: Higher order captures more complex patterns but')\n",
    "print('         increases model size. Optimal order depends on signal.')"
   ]
  },
  {
   "cell_type": "markdown",
   "metadata": {},
   "source": [
    "## Part 7: Integration with Workbench Pipeline"
   ]
  },
  {
   "cell_type": "code",
   "execution_count": null,
   "metadata": {},
   "outputs": [],
   "source": [
    "# Combine with spectral scoring and holographic refinement\n",
    "from workbench import (\n",
    "    ZetaFiducials,\n",
    "    SpectralScorer,\n",
    "    phase_retrieve_hilbert,\n",
    "    normalize_signal\n",
    ")\n",
    "\n",
    "# Create complex signal\n",
    "t = np.linspace(0, 20, 1000)\n",
    "signal = (np.sin(2*np.pi*t) + 0.5*np.sin(6*np.pi*t) + \n",
    "          0.3*np.sin(10*np.pi*t) + 0.2*np.random.randn(len(t)))\n",
    "\n",
    "print('\\nIntegrated Pipeline: Spectral → Holographic → Fractal Peeling')\n",
    "print('=' * 70)\n",
    "\n",
    "# Step 1: Spectral analysis\n",
    "zeros = ZetaFiducials.get_standard(10)\n",
    "scorer = SpectralScorer(zeros)\n",
    "indices = np.arange(len(signal))\n",
    "spectral_scores = scorer.compute_scores(indices, mode='real')\n",
    "print(f'1. Spectral scoring:   mean = {np.mean(spectral_scores):.4f}')\n",
    "\n",
    "# Step 2: Phase retrieval\n",
    "envelope, phase_var = phase_retrieve_hilbert(signal)\n",
    "print(f'2. Phase retrieval:    PV = {phase_var:.4f}')\n",
    "\n",
    "# Step 3: Fractal peeling compression\n",
    "peeler = FractalPeeler(order=4, max_depth=6)\n",
    "tree = peeler.compress(signal)\n",
    "stats = peeler.tree_stats(tree)\n",
    "ratio = peeler.compression_ratio(tree, len(signal))\n",
    "print(f'3. Fractal peeling:    {ratio:.2f}x compression')\n",
    "\n",
    "# Verify reconstruction\n",
    "reconstructed = peeler.decompress(tree)\n",
    "error = np.max(np.abs(signal - reconstructed))\n",
    "print(f'4. Reconstruction:     error = {error:.2e}')\n",
    "\n",
    "print('=' * 70)\n",
    "print('✓ Pipeline complete: Lossless compression with structure analysis')"
   ]
  },
  {
   "cell_type": "markdown",
   "metadata": {},
   "source": [
    "## Summary\n",
    "\n",
    "**Recursive Fractal Peeling** provides:\n",
    "- **Lossless compression** via AR models + residuals\n",
    "- **Structure detection** through resfrac scores\n",
    "- **Adaptive depth** based on signal predictability\n",
    "- **Integration** with spectral and holographic tools\n",
    "\n",
    "**Key Parameters:**\n",
    "- `order`: AR model complexity (2-8 typical)\n",
    "- `noise_threshold`: Stop when ρ > 0.95 (random)\n",
    "- `improvement_threshold`: Stop when Δρ < 0.01\n",
    "- `max_depth`: Limit recursion (5-10 typical)\n",
    "\n",
    "**Use Cases:**\n",
    "- Compress structured time series\n",
    "- Analyze signal predictability\n",
    "- Extract hierarchical patterns\n",
    "- Combine with spectral/holographic processing"
   ]
  }
 ],
 "metadata": {
  "kernelspec": {
   "display_name": "Python 3",
   "language": "python",
   "name": "python3"
  },
  "language_info": {
   "codemirror_mode": {
    "name": "ipython",
    "version": 3
   },
   "file_extension": ".py",
   "mimetype": "text/x-python",
   "name": "python",
   "nbconvert_exporter": "python",
   "pygments_lexer": "ipython3",
   "version": "3.8.0"
  }
 },
 "nbformat": 4,
 "nbformat_minor": 4
}
