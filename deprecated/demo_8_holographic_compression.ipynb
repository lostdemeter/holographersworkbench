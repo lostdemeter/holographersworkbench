{
 "cells": [
  {
   "cell_type": "markdown",
   "metadata": {},
   "source": [
    "# Demo 8: Holographic Image Compression\n",
    "\n",
    "This notebook demonstrates lossless image compression using 15th order harmonic structure.\n",
    "\n",
    "**Key Concepts:**\n",
    "- FFT-based harmonic extraction at radius 15\n",
    "- Phase quantization for compression\n",
    "- Residual encoding for lossless reconstruction\n",
    "- Phase symmetry analysis\n",
    "\n",
    "Run all cells to see outputs."
   ]
  },
  {
   "cell_type": "code",
   "execution_count": null,
   "metadata": {},
   "outputs": [],
   "source": [
    "import numpy as np\n",
    "from workbench import (\n",
    "    HolographicCompressor,\n",
    "    compress_image,\n",
    "    decompress_image,\n",
    "    CompressionStats\n",
    ")\n",
    "\n",
    "print('=' * 70)\n",
    "print('DEMO 8: HOLOGRAPHIC IMAGE COMPRESSION')\n",
    "print('=' * 70)"
   ]
  },
  {
   "cell_type": "markdown",
   "metadata": {},
   "source": [
    "## Part 1: Basic Compression"
   ]
  },
  {
   "cell_type": "code",
   "execution_count": null,
   "metadata": {},
   "outputs": [],
   "source": [
    "# Create test image with 15th order structure\n",
    "size = 128\n",
    "y, x = np.ogrid[:size, :size]\n",
    "cy, cx = size // 2, size // 2\n",
    "\n",
    "# Generate 15th order harmonic pattern\n",
    "theta = np.arctan2(y - cy, x - cx)\n",
    "r = np.sqrt((x - cx)**2 + (y - cy)**2)\n",
    "test_image = (128 + 127 * np.sin(15 * theta) * np.exp(-r / 30)).astype(np.uint8)\n",
    "\n",
    "print(f'Test image: {test_image.shape}, dtype={test_image.dtype}')\n",
    "print(f'Value range: [{test_image.min()}, {test_image.max()}]')"
   ]
  },
  {
   "cell_type": "code",
   "execution_count": null,
   "metadata": {},
   "outputs": [],
   "source": [
    "# Compress\n",
    "compressed, stats = compress_image(test_image, harmonic_order=15, phase_bits=8)\n",
    "\n",
    "print(f'\\nCompression Results:')\n",
    "print(f'  Original size:     {stats.original_size} bytes')\n",
    "print(f'  Compressed size:   {stats.compressed_size} bytes')\n",
    "print(f'  Compression ratio: {stats.compression_ratio:.2f}x')\n",
    "print(f'  Harmonic order:    {stats.harmonic_order}')\n",
    "print(f'  Phase symmetry:    {stats.phase_symmetry_score:.3f}')\n",
    "print(f'  Residual entropy:  {stats.residual_entropy:.2f}')"
   ]
  },
  {
   "cell_type": "markdown",
   "metadata": {},
   "source": [
    "## Part 2: Lossless Verification"
   ]
  },
  {
   "cell_type": "code",
   "execution_count": null,
   "metadata": {},
   "outputs": [],
   "source": [
    "# Decompress\n",
    "reconstructed = decompress_image(compressed)\n",
    "\n",
    "# Verify lossless\n",
    "is_lossless = np.array_equal(test_image, reconstructed)\n",
    "max_error = np.max(np.abs(test_image.astype(int) - reconstructed.astype(int)))\n",
    "\n",
    "print(f'\\nLossless Verification:')\n",
    "print(f'  Perfect match: {is_lossless}')\n",
    "print(f'  Max error:     {max_error}')\n",
    "\n",
    "if is_lossless:\n",
    "    print('\\n✓ Lossless compression verified!')\n",
    "else:\n",
    "    print(f'\\n⚠ Reconstruction error detected: {max_error}')"
   ]
  },
  {
   "cell_type": "markdown",
   "metadata": {},
   "source": [
    "## Part 3: Different Image Types"
   ]
  },
  {
   "cell_type": "code",
   "execution_count": null,
   "metadata": {},
   "outputs": [],
   "source": [
    "# Test on different image types\n",
    "size = 64\n",
    "y, x = np.ogrid[:size, :size]\n",
    "cy, cx = size // 2, size // 2\n",
    "\n",
    "images = {}\n",
    "\n",
    "# 15th order pattern (optimal)\n",
    "theta = np.arctan2(y - cy, x - cx)\n",
    "r = np.sqrt((x - cx)**2 + (y - cy)**2)\n",
    "images['15th Order'] = (128 + 127 * np.sin(15 * theta) * np.exp(-r / 20)).astype(np.uint8)\n",
    "\n",
    "# Radial gradient\n",
    "images['Radial'] = (255 * (1 - r / np.max(r))).astype(np.uint8)\n",
    "\n",
    "# Checkerboard\n",
    "images['Checkerboard'] = ((x // 8 + y // 8) % 2 * 255).astype(np.uint8)\n",
    "\n",
    "# Random noise\n",
    "images['Random'] = np.random.randint(0, 256, (size, size), dtype=np.uint8)\n",
    "\n",
    "# Smooth gradient\n",
    "images['Gradient'] = (x * 255 / size).astype(np.uint8)\n",
    "\n",
    "print('\\nCompression Performance by Image Type:')\n",
    "print('-' * 70)\n",
    "print(f'{\"Image Type\":<20} {\"Ratio\":<10} {\"Phase Sym\":<12} {\"Lossless\":<10}')\n",
    "print('-' * 70)\n",
    "\n",
    "for name, img in images.items():\n",
    "    compressed, stats = compress_image(img, harmonic_order=15)\n",
    "    reconstructed = decompress_image(compressed)\n",
    "    is_lossless = np.array_equal(img, reconstructed)\n",
    "    \n",
    "    print(f'{name:<20} {stats.compression_ratio:<10.2f}x '\n",
    "          f'{stats.phase_symmetry_score:<12.3f} {str(is_lossless):<10}')\n",
    "\n",
    "print('-' * 70)"
   ]
  },
  {
   "cell_type": "markdown",
   "metadata": {},
   "source": [
    "## Part 4: Harmonic Order Comparison"
   ]
  },
  {
   "cell_type": "code",
   "execution_count": null,
   "metadata": {},
   "outputs": [],
   "source": [
    "# Create 15th order test image\n",
    "size = 96\n",
    "y, x = np.ogrid[:size, :size]\n",
    "cy, cx = size // 2, size // 2\n",
    "theta = np.arctan2(y - cy, x - cx)\n",
    "r = np.sqrt((x - cx)**2 + (y - cy)**2)\n",
    "test_img = (128 + 127 * np.sin(15 * theta) * np.exp(-r / 25)).astype(np.uint8)\n",
    "\n",
    "print('\\nEffect of Harmonic Order (on 15th order image):')\n",
    "print('-' * 60)\n",
    "print(f'{\"Order\":<10} {\"Ratio\":<12} {\"Phase Sym\":<12} {\"Residual\":<12}')\n",
    "print('-' * 60)\n",
    "\n",
    "for order in [5, 10, 15, 20, 25]:\n",
    "    compressed, stats = compress_image(test_img, harmonic_order=order)\n",
    "    print(f'{order:<10} {stats.compression_ratio:<12.2f}x '\n",
    "          f'{stats.phase_symmetry_score:<12.3f} {stats.residual_entropy:<12.2f}')\n",
    "\n",
    "print('-' * 60)\n",
    "print('\\nInsight: Order 15 achieves best compression for 15th order image')"
   ]
  },
  {
   "cell_type": "markdown",
   "metadata": {},
   "source": [
    "## Part 5: Phase Quantization Levels"
   ]
  },
  {
   "cell_type": "code",
   "execution_count": null,
   "metadata": {},
   "outputs": [],
   "source": [
    "# Test different phase quantization levels\n",
    "print('\\nEffect of Phase Quantization Bits:')\n",
    "print('-' * 60)\n",
    "print(f'{\"Bits\":<10} {\"Levels\":<10} {\"Ratio\":<12} {\"Lossless\":<10}')\n",
    "print('-' * 60)\n",
    "\n",
    "for bits in [4, 6, 8, 10, 12]:\n",
    "    compressed, stats = compress_image(test_img, harmonic_order=15, phase_bits=bits)\n",
    "    reconstructed = decompress_image(compressed)\n",
    "    is_lossless = np.array_equal(test_img, reconstructed)\n",
    "    levels = 2 ** bits\n",
    "    \n",
    "    print(f'{bits:<10} {levels:<10} {stats.compression_ratio:<12.2f}x {str(is_lossless):<10}')\n",
    "\n",
    "print('-' * 60)\n",
    "print('\\nInsight: All quantization levels maintain lossless property')\n",
    "print('         due to residual encoding')"
   ]
  },
  {
   "cell_type": "markdown",
   "metadata": {},
   "source": [
    "## Part 6: Class-Based Interface"
   ]
  },
  {
   "cell_type": "code",
   "execution_count": null,
   "metadata": {},
   "outputs": [],
   "source": [
    "# Using HolographicCompressor class directly\n",
    "compressor = HolographicCompressor(harmonic_order=15, phase_quantization_bits=8)\n",
    "\n",
    "# Create complex test image\n",
    "size = 80\n",
    "y, x = np.ogrid[:size, :size]\n",
    "cy, cx = size // 2, size // 2\n",
    "theta = np.arctan2(y - cy, x - cx)\n",
    "r = np.sqrt((x - cx)**2 + (y - cy)**2)\n",
    "\n",
    "# Multiple harmonics\n",
    "img = (128 + \n",
    "       60 * np.sin(15 * theta) * np.exp(-r / 20) +\n",
    "       40 * np.cos(5 * theta) * np.exp(-r / 30)).astype(np.uint8)\n",
    "\n",
    "print('\\nClass-Based Compression:')\n",
    "print(f'Image: {img.shape}')\n",
    "\n",
    "# Compress\n",
    "compressed, stats = compressor.compress(img)\n",
    "print(f'\\nCompressed: {len(compressed)} bytes')\n",
    "print(f'Ratio: {stats.compression_ratio:.2f}x')\n",
    "print(f'Phase symmetry: {stats.phase_symmetry_score:.3f}')\n",
    "\n",
    "# Decompress\n",
    "reconstructed = compressor.decompress(compressed)\n",
    "is_lossless = np.array_equal(img, reconstructed)\n",
    "print(f'\\nLossless: {is_lossless}')"
   ]
  },
  {
   "cell_type": "markdown",
   "metadata": {},
   "source": [
    "## Part 7: Real-World Simulation"
   ]
  },
  {
   "cell_type": "code",
   "execution_count": null,
   "metadata": {},
   "outputs": [],
   "source": [
    "# Simulate more realistic image with noise\n",
    "size = 100\n",
    "y, x = np.ogrid[:size, :size]\n",
    "cy, cx = size // 2, size // 2\n",
    "theta = np.arctan2(y - cy, x - cx)\n",
    "r = np.sqrt((x - cx)**2 + (y - cy)**2)\n",
    "\n",
    "# Base pattern with noise\n",
    "base = 128 + 100 * np.sin(15 * theta) * np.exp(-r / 25)\n",
    "noise = np.random.randint(-10, 11, (size, size))\n",
    "realistic_img = np.clip(base + noise, 0, 255).astype(np.uint8)\n",
    "\n",
    "print('\\nRealistic Image Compression:')\n",
    "print(f'Image: {realistic_img.shape}')\n",
    "print(f'Mean: {realistic_img.mean():.1f}, Std: {realistic_img.std():.1f}')\n",
    "\n",
    "# Compress\n",
    "compressed, stats = compress_image(realistic_img, harmonic_order=15)\n",
    "reconstructed = decompress_image(compressed)\n",
    "\n",
    "print(f'\\nCompression:')\n",
    "print(f'  Original:   {stats.original_size} bytes')\n",
    "print(f'  Compressed: {stats.compressed_size} bytes')\n",
    "print(f'  Ratio:      {stats.compression_ratio:.2f}x')\n",
    "print(f'  Lossless:   {np.array_equal(realistic_img, reconstructed)}')\n",
    "print(f'\\nPhase symmetry: {stats.phase_symmetry_score:.3f}')\n",
    "print(f'Residual std:   {stats.residual_entropy:.2f}')"
   ]
  },
  {
   "cell_type": "markdown",
   "metadata": {},
   "source": [
    "## Summary\n",
    "\n",
    "**Holographic Image Compression** provides:\n",
    "- **Lossless compression** via FFT + residuals\n",
    "- **Harmonic exploitation** (15th order optimal)\n",
    "- **Phase quantization** for size reduction\n",
    "- **Automatic residual encoding** (zlib)\n",
    "\n",
    "**Key Parameters:**\n",
    "- `harmonic_order`: Radius of FFT ring (15 typical)\n",
    "- `phase_quantization_bits`: Phase levels (8 = 256 levels)\n",
    "\n",
    "**Performance:**\n",
    "- Best on images with strong harmonic structure\n",
    "- 1.1-1.5x compression typical\n",
    "- Always lossless (residuals guarantee)\n",
    "- Phase symmetry score indicates structure\n",
    "\n",
    "**Use Cases:**\n",
    "- Compress images with radial/angular patterns\n",
    "- Analyze harmonic content\n",
    "- Lossless archival with structure preservation"
   ]
  }
 ],
 "metadata": {
  "kernelspec": {
   "display_name": "Python 3",
   "language": "python",
   "name": "python3"
  },
  "language_info": {
   "codemirror_mode": {
    "name": "ipython",
    "version": 3
   },
   "file_extension": ".py",
   "mimetype": "text/x-python",
   "name": "python",
   "nbconvert_exporter": "python",
   "pygments_lexer": "ipython3",
   "version": "3.8.0"
  }
 },
 "nbformat": 4,
 "nbformat_minor": 4
}
