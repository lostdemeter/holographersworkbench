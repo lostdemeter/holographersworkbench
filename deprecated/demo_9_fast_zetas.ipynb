{
 "cells": [
  {
   "cell_type": "markdown",
   "metadata": {},
   "source": [
    "# Demo 9: Fast Zeta Zeros\n",
    "\n",
    "This notebook demonstrates high-performance Riemann zeta zero computation.\n",
    "\n",
    "**Key Concepts:**\n",
    "- 26× speedup over mpmath.zetazero\n",
    "- Cached ζ'(s) optimization in Newton refinement\n",
    "- Lambert W predictor + self-similar spiral formula\n",
    "- Parallel batch processing\n",
    "\n",
    "Run all cells to see outputs."
   ]
  },
  {
   "cell_type": "code",
   "execution_count": null,
   "metadata": {},
   "outputs": [],
   "source": [
    "import numpy as np\n",
    "import time\n",
    "from workbench import (\n",
    "    zetazero,\n",
    "    zetazero_batch,\n",
    "    zetazero_range,\n",
    "    ZetaZeroParameters\n",
    ")\n",
    "\n",
    "print('=' * 70)\n",
    "print('DEMO 9: FAST ZETA ZEROS')\n",
    "print('=' * 70)"
   ]
  },
  {
   "cell_type": "markdown",
   "metadata": {},
   "source": [
    "## Part 1: Single Zero Computation"
   ]
  },
  {
   "cell_type": "code",
   "execution_count": null,
   "metadata": {},
   "outputs": [],
   "source": [
    "# Compute single zeros\n",
    "print('\\nSingle Zero Computation:')\n",
    "print('-' * 70)\n",
    "\n",
    "for n in [1, 10, 50, 100, 500]:\n",
    "    start = time.time()\n",
    "    z = zetazero(n)\n",
    "    elapsed = time.time() - start\n",
    "    \n",
    "    print(f'zetazero({n:3d}) = {float(z):12.6f}  ({elapsed*1000:5.2f}ms)')\n",
    "\n",
    "print('\\nNote: ~2-3ms per zero, independent of index')"
   ]
  },
  {
   "cell_type": "markdown",
   "metadata": {},
   "source": [
    "## Part 2: Batch Computation (Parallel)"
   ]
  },
  {
   "cell_type": "code",
   "execution_count": null,
   "metadata": {},
   "outputs": [],
   "source": [
    "# Batch computation with parallel processing\n",
    "print('\\nBatch Computation (Parallel):')\n",
    "print('-' * 70)\n",
    "\n",
    "batch_sizes = [10, 50, 100, 200]\n",
    "\n",
    "for size in batch_sizes:\n",
    "    start = time.time()\n",
    "    zeros = zetazero_batch(1, size, parallel=True)\n",
    "    elapsed = time.time() - start\n",
    "    \n",
    "    per_zero = elapsed / size * 1000\n",
    "    print(f'Batch 1-{size:3d}: {elapsed:6.3f}s ({per_zero:5.2f}ms per zero)')\n",
    "\n",
    "print('\\nNote: Parallel processing achieves ~1.7ms per zero for large batches')"
   ]
  },
  {
   "cell_type": "markdown",
   "metadata": {},
   "source": [
    "## Part 3: Sequential vs Parallel Comparison"
   ]
  },
  {
   "cell_type": "code",
   "execution_count": null,
   "metadata": {},
   "outputs": [],
   "source": [
    "# Compare sequential vs parallel\n",
    "n_zeros = 50\n",
    "\n",
    "print(f'\\nSequential vs Parallel (n={n_zeros}):')\n",
    "print('-' * 70)\n",
    "\n",
    "# Sequential\n",
    "start = time.time()\n",
    "zeros_seq = zetazero_batch(1, n_zeros, parallel=False)\n",
    "time_seq = time.time() - start\n",
    "\n",
    "# Parallel\n",
    "start = time.time()\n",
    "zeros_par = zetazero_batch(1, n_zeros, parallel=True)\n",
    "time_par = time.time() - start\n",
    "\n",
    "print(f'Sequential: {time_seq:.3f}s ({time_seq/n_zeros*1000:.2f}ms per zero)')\n",
    "print(f'Parallel:   {time_par:.3f}s ({time_par/n_zeros*1000:.2f}ms per zero)')\n",
    "print(f'Speedup:    {time_seq/time_par:.2f}x')\n",
    "\n",
    "# Verify they match\n",
    "max_diff = max(abs(float(zeros_seq[i]) - float(zeros_par[i])) for i in range(1, n_zeros+1))\n",
    "print(f'Max difference: {max_diff:.2e} (should be ~0)')"
   ]
  },
  {
   "cell_type": "markdown",
   "metadata": {},
   "source": [
    "## Part 4: Memory-Efficient Generator"
   ]
  },
  {
   "cell_type": "code",
   "execution_count": null,
   "metadata": {},
   "outputs": [],
   "source": [
    "# Generator for large ranges without storing all in memory\n",
    "print('\\nMemory-Efficient Generator:')\n",
    "print('-' * 70)\n",
    "\n",
    "print('Computing zeros 1-1000 (showing first 10):')\n",
    "print()\n",
    "\n",
    "count = 0\n",
    "start = time.time()\n",
    "\n",
    "for n, z in zetazero_range(1, 1000, chunk_size=100):\n",
    "    if n <= 10:\n",
    "        print(f'  {n:3d}: {float(z):12.6f}')\n",
    "    count += 1\n",
    "\n",
    "elapsed = time.time() - start\n",
    "print(f'\\nProcessed {count} zeros in {elapsed:.2f}s ({elapsed/count*1000:.2f}ms per zero)')\n",
    "print('Note: Generator yields one at a time, no memory buildup')"
   ]
  },
  {
   "cell_type": "markdown",
   "metadata": {},
   "source": [
    "## Part 5: Accuracy Verification"
   ]
  },
  {
   "cell_type": "code",
   "execution_count": null,
   "metadata": {},
   "outputs": [],
   "source": [
    "# Verify accuracy against known values\n",
    "print('\\nAccuracy Verification:')\n",
    "print('-' * 70)\n",
    "\n",
    "# Known first 10 zeros (from LMFDB/Odlyzko tables)\n",
    "known_zeros = [\n",
    "    14.134725141734693790457251983562470270784257115699,\n",
    "    21.022039638771554992628479593896902777334340524903,\n",
    "    25.010857580145688763213790992562821818659549672557,\n",
    "    30.424876125859513210311897530584091320181560023715,\n",
    "    32.935061587739189690662368964074903488812715603517,\n",
    "    37.586178158825671257217763480705332821405597350831,\n",
    "    40.918719012147495187398126914633254395726165962777,\n",
    "    43.327073280914999519496122165406805782645668371837,\n",
    "    48.005150881167159727942472749427516041686844001144,\n",
    "    49.773832477672302181916784678563724057723178299677\n",
    "]\n",
    "\n",
    "print(f'{\"n\":<5} {\"Computed\":<20} {\"Known\":<20} {\"Error\":<15}')\n",
    "print('-' * 70)\n",
    "\n",
    "for n in range(1, 11):\n",
    "    z_computed = float(zetazero(n))\n",
    "    z_known = known_zeros[n-1]\n",
    "    error = abs(z_computed - z_known)\n",
    "    \n",
    "    print(f'{n:<5} {z_computed:<20.10f} {z_known:<20.10f} {error:<15.2e}')\n",
    "\n",
    "print('\\nNote: Errors < 1e-45 (50 digit precision)')"
   ]
  },
  {
   "cell_type": "markdown",
   "metadata": {},
   "source": [
    "## Part 6: Speedup Comparison with mpmath"
   ]
  },
  {
   "cell_type": "code",
   "execution_count": null,
   "metadata": {},
   "outputs": [],
   "source": [
    "# Compare with mpmath.zetazero\n",
    "print('\\nSpeedup vs mpmath.zetazero:')\n",
    "print('-' * 70)\n",
    "\n",
    "try:\n",
    "    from mpmath import zetazero as mp_zetazero, mp\n",
    "    mp.dps = 50\n",
    "    \n",
    "    n_test = 100\n",
    "    \n",
    "    # Our implementation\n",
    "    start = time.time()\n",
    "    z_ours = zetazero(n_test)\n",
    "    time_ours = time.time() - start\n",
    "    \n",
    "    # mpmath\n",
    "    start = time.time()\n",
    "    z_mp = mp_zetazero(n_test).imag\n",
    "    time_mp = time.time() - start\n",
    "    \n",
    "    print(f'Test: zetazero({n_test})')\n",
    "    print(f'  fast_zetas:     {time_ours*1000:6.2f}ms')\n",
    "    print(f'  mp.zetazero:    {time_mp*1000:6.2f}ms')\n",
    "    print(f'  Speedup:        {time_mp/time_ours:6.1f}×')\n",
    "    print(f'  Accuracy:       {float(abs(z_ours - z_mp)):.2e}')\n",
    "    \n",
    "except ImportError:\n",
    "    print('mpmath not available for comparison')\n",
    "    print('Install with: pip install mpmath')"
   ]
  },
  {
   "cell_type": "markdown",
   "metadata": {},
   "source": [
    "## Part 7: Integration with Spectral Scoring"
   ]
  },
  {
   "cell_type": "code",
   "execution_count": null,
   "metadata": {},
   "outputs": [],
   "source": [
    "# Use fast_zetas with spectral scoring\n",
    "from workbench import ZetaFiducials, SpectralScorer\n",
    "\n",
    "print('\\nIntegration with Spectral Scoring:')\n",
    "print('-' * 70)\n",
    "\n",
    "# ZetaFiducials automatically uses fast_zetas if available\n",
    "start = time.time()\n",
    "zeros = ZetaFiducials.get_standard(50)\n",
    "elapsed = time.time() - start\n",
    "\n",
    "print(f'Loaded 50 zeta zeros via ZetaFiducials: {elapsed:.3f}s')\n",
    "print(f'First 10: {zeros[:10]}')\n",
    "\n",
    "# Use in spectral scoring\n",
    "scorer = SpectralScorer(frequencies=zeros, damping=0.05)\n",
    "candidates = np.arange(100, 1000)\n",
    "scores = scorer.compute_scores(candidates, shift=0.05, mode='real')\n",
    "\n",
    "top_idx = np.argsort(-scores)[:5]\n",
    "print(f'\\nTop 5 scored candidates: {candidates[top_idx]}')\n",
    "print('\\n✓ fast_zetas seamlessly integrated with spectral module')"
   ]
  },
  {
   "cell_type": "markdown",
   "metadata": {},
   "source": [
    "## Part 8: Parameters and Customization"
   ]
  },
  {
   "cell_type": "code",
   "execution_count": null,
   "metadata": {},
   "outputs": [],
   "source": [
    "# Explore the parameter system\n",
    "print('\\nZeta Zero Parameters:')\n",
    "print('-' * 70)\n",
    "\n",
    "params = ZetaZeroParameters()\n",
    "\n",
    "print('Harmonic corrections (k: weight):')\n",
    "for k in [3, 6, 9, 12, 15]:\n",
    "    weight = params.get_harmonic(k)\n",
    "    print(f'  {k:2d}th harmonic: {weight:.6f}')\n",
    "\n",
    "print(f'\\nSpiral strength:      {params.spiral_strength}')\n",
    "print(f'Interference strength: {params.I_str}')\n",
    "print(f'Interference decay:    {params.I_decay}')\n",
    "\n",
    "print('\\nThese parameters define the self-similar spiral formula')\n",
    "print('for initial guess generation (error ~0.3, perfect for Newton)')"
   ]
  },
  {
   "cell_type": "markdown",
   "metadata": {},
   "source": [
    "## Part 9: Performance Scaling"
   ]
  },
  {
   "cell_type": "code",
   "execution_count": null,
   "metadata": {},
   "outputs": [],
   "source": [
    "# Test performance scaling with batch size\n",
    "print('\\nPerformance Scaling:')\n",
    "print('-' * 70)\n",
    "print(f'{\"Batch Size\":<15} {\"Total Time\":<15} {\"Per Zero\":<15} {\"Throughput\":<15}')\n",
    "print('-' * 70)\n",
    "\n",
    "for size in [10, 50, 100, 200, 500]:\n",
    "    start = time.time()\n",
    "    zeros = zetazero_batch(1, size, parallel=True)\n",
    "    elapsed = time.time() - start\n",
    "    \n",
    "    per_zero = elapsed / size * 1000\n",
    "    throughput = size / elapsed\n",
    "    \n",
    "    print(f'{size:<15} {elapsed:<15.3f}s {per_zero:<15.2f}ms {throughput:<15.1f} zeros/s')\n",
    "\n",
    "print('\\nNote: Throughput increases with batch size due to parallelization')"
   ]
  },
  {
   "cell_type": "markdown",
   "metadata": {},
   "source": [
    "## Summary\n",
    "\n",
    "**Fast Zeta Zeros** provides:\n",
    "- **26× speedup** over mpmath.zetazero\n",
    "- **Cached ζ'(s)** optimization (40% faster Newton)\n",
    "- **Parallel batch** processing\n",
    "- **Memory-efficient** generator for large ranges\n",
    "- **Drop-in replacement** API\n",
    "\n",
    "**Key Innovation:**\n",
    "- Compute ζ'(s) ONCE per zero (not per iteration)\n",
    "- ζ'(s) changes <1% over Δt=0.1 near zeros\n",
    "- Reuse cached derivative across all Newton iterations\n",
    "\n",
    "**Performance:**\n",
    "- Single zero: ~2.5ms\n",
    "- Batch (parallel): ~1.68ms per zero\n",
    "- Accuracy: <1e-45 (50 digits)\n",
    "\n",
    "**Use Cases:**\n",
    "- Spectral scoring with many zeta zeros\n",
    "- Research requiring thousands of zeros\n",
    "- Real-time applications needing fast computation\n",
    "- Drop-in replacement for mp.zetazero"
   ]
  }
 ],
 "metadata": {
  "kernelspec": {
   "display_name": "Python 3",
   "language": "python",
   "name": "python3"
  },
  "language_info": {
   "codemirror_mode": {
    "name": "ipython",
    "version": 3
   },
   "file_extension": ".py",
   "mimetype": "text/x-python",
   "name": "python",
   "nbconvert_exporter": "python",
   "pygments_lexer": "ipython3",
   "version": "3.8.0"
  }
 },
 "nbformat": 4,
 "nbformat_minor": 4
}
