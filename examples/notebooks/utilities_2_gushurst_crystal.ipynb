{
 "cells": [
  {
   "cell_type": "markdown",
   "metadata": {},
   "source": [
    "# Utilities 2: Gushurst Crystal Analysis\n",
    "\n",
    "## Overview\n",
    "\n",
    "**Gushurst Crystal**: Unified number-theoretic framework connecting Riemann zeta zeros and prime numbers.\n",
    "\n",
    "### What is the Gushurst Crystal?\n",
    "\n",
    "A crystalline lattice structure that reveals the deep connection between:\n",
    "- **Zeta zeros** (vertices of the crystal)\n",
    "- **Prime numbers** (resonance scales)\n",
    "- **Fractal structure** (variance cascade)\n",
    "\n",
    "Named after its discoverer, it unifies fractal peel analysis with prime prediction.\n",
    "\n",
    "### Key Capabilities\n",
    "\n",
    "1. **Fractal Peel Analysis**: Multi-scale variance cascade\n",
    "2. **Prime Prediction**: Via crystalline resonance patterns\n",
    "3. **Zeta Zero Prediction**: Via coherence analysis\n",
    "4. **Spectral Analysis**: Power spectrum and sharpness\n",
    "\n",
    "**Architecture**: Layer 2 Core (`workbench.core.gushurst_crystal`)\n",
    "\n",
    "---"
   ]
  },
  {
   "cell_type": "code",
   "execution_count": null,
   "metadata": {},
   "outputs": [],
   "source": [
    "import sys\n",
    "import os\n",
    "# Add parent directory to path for imports\n",
    "sys.path.insert(0, os.path.abspath('../..'))\n",
    "\n",
    "import numpy as np\n",
    "import matplotlib.pyplot as plt\n",
    "import time\n",
    "\n",
    "# Layer 2: Core primitives\n",
    "from workbench.core import GushurstCrystal, ZetaFiducials\n",
    "\n",
    "print('✓ Imports successful')"
   ]
  },
  {
   "cell_type": "markdown",
   "metadata": {},
   "source": [
    "## 1. Creating a Gushurst Crystal\n",
    "\n",
    "Initialize with specified number of zeta zeros and maximum prime."
   ]
  },
  {
   "cell_type": "code",
   "execution_count": null,
   "metadata": {},
   "outputs": [],
   "source": [
    "# Create Gushurst crystal with 200 zeros\n",
    "gc = GushurstCrystal(n_zeros=200, max_prime=1000)\n",
    "print(f'✓ Gushurst Crystal initialized with {gc.n_zeros} zeros')"
   ]
  },
  {
   "cell_type": "markdown",
   "metadata": {},
   "source": [
    "## 2. Computing Zeta Zero Spacings\n",
    "\n",
    "Spacings between consecutive zeros form the basis of the crystal structure."
   ]
  },
  {
   "cell_type": "code",
   "execution_count": null,
   "metadata": {},
   "outputs": [],
   "source": [
    "gc._compute_zeta_zeros()\n",
    "spacings = gc.zeta_spacings\n",
    "print(f'Computed {len(spacings)} spacings')\n",
    "print(f'Mean: {np.mean(spacings):.6f}, Std: {np.std(spacings):.6f}')\n",
    "\n",
    "# Visualize\n",
    "plt.figure(figsize=(12, 4))\n",
    "plt.subplot(1, 2, 1)\n",
    "plt.plot(spacings, 'o-', markersize=3, alpha=0.6)\n",
    "plt.title('Zeta Zero Spacings')\n",
    "plt.xlabel('Index')\n",
    "plt.ylabel('Spacing')\n",
    "plt.subplot(1, 2, 2)\n",
    "plt.hist(spacings, bins=30, alpha=0.7, edgecolor='black')\n",
    "plt.title('Spacing Distribution')\n",
    "plt.xlabel('Spacing')\n",
    "plt.ylabel('Count')\n",
    "plt.tight_layout()\n",
    "plt.show()"
   ]
  },
  {
   "cell_type": "markdown",
   "metadata": {},
   "source": [
    "## 3. Fractal Peel Analysis\n",
    "\n",
    "Variance cascade reveals multi-scale crystalline structure.\n",
    "\n",
    "**Metrics**:\n",
    "- Fractal Dimension: Measures self-similarity\n",
    "- Residual Fraction: Final/initial variance ratio\n",
    "- Prime Resonances: Detected at prime-power scales"
   ]
  },
  {
   "cell_type": "code",
   "execution_count": null,
   "metadata": {},
   "outputs": [],
   "source": [
    "cascade = gc.fractal_peel_cascade(spacings, max_levels=7)\n",
    "print(f'Fractal Dimension: {cascade[\"fractal_dim\"]:.3f}')\n",
    "print(f'Residual Fraction: {cascade[\"resfrac\"]:.2e}')\n",
    "\n",
    "# Visualize variance cascade\n",
    "plt.figure(figsize=(10, 5))\n",
    "plt.loglog(cascade['scales'], cascade['variances'], 'o-', markersize=8)\n",
    "plt.xlabel('Scale')\n",
    "plt.ylabel('Variance')\n",
    "plt.title('Fractal Peel: Variance Cascade')\n",
    "plt.grid(True, alpha=0.3, which='both')\n",
    "plt.show()"
   ]
  },
  {
   "cell_type": "markdown",
   "metadata": {},
   "source": [
    "## 4. Prime Prediction\n",
    "\n",
    "The crystal can predict primes via resonance patterns."
   ]
  },
  {
   "cell_type": "code",
   "execution_count": null,
   "metadata": {},
   "outputs": [],
   "source": [
    "# Predict next 5 primes\n",
    "predicted_primes = gc.predict_primes(n_primes=5)\n",
    "print('Predicted next 5 primes:')\n",
    "for i, p in enumerate(predicted_primes, 1):\n",
    "    print(f'  {i}. {p}')\n",
    "\n",
    "# Visualize prime distribution\n",
    "gc._compute_primes()\n",
    "plt.figure(figsize=(10, 5))\n",
    "plt.plot(gc.primes[:100], 'o-', markersize=4, alpha=0.6, label='Known primes')\n",
    "plt.plot(range(len(gc.primes), len(gc.primes) + len(predicted_primes)), \n",
    "         predicted_primes, 'ro', markersize=8, label='Predicted')\n",
    "plt.xlabel('Index')\n",
    "plt.ylabel('Prime Value')\n",
    "plt.title('Prime Distribution with Predictions')\n",
    "plt.legend()\n",
    "plt.grid(True, alpha=0.3)\n",
    "plt.show()"
   ]
  },
  {
   "cell_type": "markdown",
   "metadata": {},
   "source": [
    "## 5. Zeta Zero Prediction\n",
    "\n",
    "The crystal can predict zeta zeros via coherence analysis."
   ]
  },
  {
   "cell_type": "code",
   "execution_count": null,
   "metadata": {},
   "outputs": [],
   "source": [
    "# Predict next 3 zeta zeros\n",
    "predicted_zeros = gc.predict_zeta_zeros(n_zeros=3)\n",
    "print('Predicted next 3 zeta zeros:')\n",
    "for i, z in enumerate(predicted_zeros, 1):\n",
    "    print(f'  {i}. {z:.6f}')\n",
    "\n",
    "# Visualize\n",
    "plt.figure(figsize=(10, 5))\n",
    "plt.plot(gc.zeta_zeros[:50], 'o-', markersize=4, alpha=0.6, label='Known zeros')\n",
    "plt.plot(range(len(gc.zeta_zeros), len(gc.zeta_zeros) + len(predicted_zeros)),\n",
    "         predicted_zeros, 'ro', markersize=8, label='Predicted')\n",
    "plt.xlabel('Index')\n",
    "plt.ylabel('Zeta Zero Value')\n",
    "plt.title('Zeta Zero Distribution with Predictions')\n",
    "plt.legend()\n",
    "plt.grid(True, alpha=0.3)\n",
    "plt.show()"
   ]
  },
  {
   "cell_type": "markdown",
   "metadata": {},
   "source": [
    "## 6. Complete Crystal Structure Analysis\n",
    "\n",
    "Run full analysis to get all metrics."
   ]
  },
  {
   "cell_type": "code",
   "execution_count": null,
   "metadata": {},
   "outputs": [],
   "source": [
    "gc2 = GushurstCrystal(n_zeros=300, max_prime=2000)\n",
    "structure = gc2.analyze_crystal_structure()\n",
    "\n",
    "print('Crystal Structure Metrics:')\n",
    "for key, value in sorted(structure.items()):\n",
    "    if isinstance(value, (int, float, np.integer, np.floating)):\n",
    "        if isinstance(value, float):\n",
    "            print(f'  {key:25s}: {value:.6f}')\n",
    "        else:\n",
    "            print(f'  {key:25s}: {value}')\n",
    "    elif key == 'lattice_eigenvals':\n",
    "        print(f'  {key:25s}: [{len(value)} eigenvalues]')\n",
    "    elif key == 'prime_powers':\n",
    "        print(f'  {key:25s}: {value[:5]}...' if len(value) > 5 else f'  {key:25s}: {value}')"
   ]
  },
  {
   "cell_type": "markdown",
   "metadata": {},
   "source": [
    "## 7. Crystalline Lattice Structure\n",
    "\n",
    "Visualize the 9-node crystalline lattice."
   ]
  },
  {
   "cell_type": "code",
   "execution_count": null,
   "metadata": {},
   "outputs": [],
   "source": [
    "# Visualize lattice structure\n",
    "lattice = gc2.crystalline_lattice\n",
    "\n",
    "plt.figure(figsize=(8, 6))\n",
    "plt.imshow(lattice, cmap='viridis', aspect='auto')\n",
    "plt.colorbar(label='Edge Weight')\n",
    "plt.title('Gushurst Crystal Lattice (9-node prism)')\n",
    "plt.xlabel('Node')\n",
    "plt.ylabel('Node')\n",
    "for i in range(9):\n",
    "    for j in range(9):\n",
    "        if lattice[i, j] > 0:\n",
    "            plt.text(j, i, f'{lattice[i,j]:.2f}', ha='center', va='center', \n",
    "                    color='white', fontsize=8)\n",
    "plt.tight_layout()\n",
    "plt.show()\n",
    "\n",
    "# Show eigenvalues\n",
    "eigenvals = np.linalg.eigvalsh(lattice)\n",
    "plt.figure(figsize=(8, 4))\n",
    "plt.stem(range(len(eigenvals)), eigenvals, basefmt=' ')\n",
    "plt.xlabel('Index')\n",
    "plt.ylabel('Eigenvalue')\n",
    "plt.title('Lattice Eigenspectrum')\n",
    "plt.grid(True, alpha=0.3)\n",
    "plt.show()"
   ]
  },
  {
   "cell_type": "markdown",
   "metadata": {},
   "source": [
    "## 8. Scaling Analysis\n",
    "\n",
    "How crystal metrics scale with number of zeros."
   ]
  },
  {
   "cell_type": "code",
   "execution_count": null,
   "metadata": {},
   "outputs": [],
   "source": [
    "print(f'{\"N Zeros\":<10} {\"Time (s)\":<12} {\"Fractal Dim\":<15} {\"Resonances\":<12}')\n",
    "for n in [50, 100, 200]:\n",
    "    start = time.time()\n",
    "    gc_test = GushurstCrystal(n_zeros=n, max_prime=1000)\n",
    "    s = gc_test.analyze_crystal_structure()\n",
    "    elapsed = time.time() - start\n",
    "    print(f'{n:<10} {elapsed:<12.2f} {s[\"fractal_dim\"]:<15.3f} {s[\"n_resonances\"]:<12}')"
   ]
  },
  {
   "cell_type": "markdown",
   "metadata": {},
   "source": [
    "## Summary\n",
    "\n",
    "### Key Takeaways\n",
    "1. **Gushurst Crystal** unifies zeta zeros and prime numbers\n",
    "2. **Fractal peel** reveals multi-scale crystalline structure\n",
    "3. **Prime prediction** via resonance patterns\n",
    "4. **Zeta prediction** via coherence analysis\n",
    "5. **9-node lattice** with prime-power symmetries\n",
    "\n",
    "### Applications\n",
    "- Number theory research\n",
    "- Prime generation\n",
    "- Zeta zero computation\n",
    "- Riemann Hypothesis investigation\n",
    "\n",
    "### Next Steps\n",
    "- **Utilities 1**: Fast zeta computation\n",
    "- **Utilities 3**: Optimization toolkit\n",
    "- **Experimental**: See `experimental/demo_gushurst_crystal.py` for full demo\n",
    "\n",
    "**Architecture**: `workbench/core/gushurst_crystal.py` (Layer 2)"
   ]
  }
 ],
 "metadata": {
  "kernelspec": {
   "display_name": "Python 3",
   "language": "python",
   "name": "python3"
  }
 },
 "nbformat": 4,
 "nbformat_minor": 4
}
