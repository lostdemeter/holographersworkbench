{
 "cells": [
  {
   "cell_type": "markdown",
   "metadata": {},
   "source": [
    "# Utilities 2: Quantum Clock Analysis\n\n",
    "## Overview\n\n",
    "**Fractal peel quantum clock analysis** using Riemann zeta zero spacings.\n\n",
    "### What is a Quantum Clock?\n\n",
    "Uses **spacings between consecutive zeta zeros** as a quantum timing reference with:\n",
    "- Deterministic mathematical definition\n",
    "- Fractal multi-scale structure\n",
    "- Quantum-like discrete ticks\n",
    "- Universal reference frame\n\n",
    "### Key Techniques\n\n",
    "**Fractal Peel**: Haar wavelet variance cascade\n",
    "- Decomposes signal across scales\n",
    "- Measures fractal dimension, coherence time, residual fraction\n\n",
    "**Spectral Analysis**: Power spectrum analysis\n",
    "- Identifies dominant frequencies\n",
    "- Measures spectral sharpness\n\n",
    "**Architecture**: Layer 2 Core (`workbench.core.quantum`)\n\n---"
   ]
  },
  {
   "cell_type": "code",
   "execution_count": null,
   "metadata": {},
   "outputs": [],
   "source": [
    "import numpy as np\n",
    "import matplotlib.pyplot as plt\n",
    "import time\n\n",
    "# Layer 2: Core primitives\n",
    "from workbench.core.quantum import QuantumClock\n",
    "from workbench.core.zeta import ZetaFiducials\n\n",
    "print('\u2713 Imports successful')"
   ]
  },
  {
   "cell_type": "markdown",
   "metadata": {},
   "source": [
    "## 1. Creating a Quantum Clock\n\nInitialize with specified number of zeta zeros."
   ]
  },
  {
   "cell_type": "code",
   "execution_count": null,
   "metadata": {},
   "outputs": [],
   "source": [
    "# Create quantum clock with 200 zeros\n",
    "qc = QuantumClock(n_zeros=200)\n",
    "print(f'\u2713 Quantum Clock initialized with {qc.n_zeros} zeros')"
   ]
  },
  {
   "cell_type": "markdown",
   "metadata": {},
   "source": [
    "## 2. Computing Zeta Zero Spacings\n\nSpacings between consecutive zeros form the clock signal."
   ]
  },
  {
   "cell_type": "code",
   "execution_count": null,
   "metadata": {},
   "outputs": [],
   "source": [
    "spacings = qc.compute_zeta_spacings()\n",
    "print(f'Computed {len(spacings)} spacings')\n",
    "print(f'Mean: {np.mean(spacings):.6f}, Std: {np.std(spacings):.6f}')\n\n",
    "# Visualize\n",
    "plt.figure(figsize=(12, 4))\n",
    "plt.subplot(1, 2, 1)\n",
    "plt.plot(spacings, 'o-', markersize=3, alpha=0.6)\n",
    "plt.title('Zeta Zero Spacings')\n",
    "plt.subplot(1, 2, 2)\n",
    "plt.hist(spacings, bins=30, alpha=0.7, edgecolor='black')\n",
    "plt.title('Spacing Distribution')\n",
    "plt.tight_layout()\n",
    "plt.show()"
   ]
  },
  {
   "cell_type": "markdown",
   "metadata": {},
   "source": [
    "## 3. Fractal Peel Analysis\n\n",
    "Haar wavelet variance cascade reveals multi-scale structure.\n\n",
    "**Metrics**:\n",
    "- Fractal Dimension: 0.5=white noise, <0.5=anti-persistent, >0.5=persistent\n",
    "- Coherence Time: Scale where variance drops to 50%\n",
    "- Residual Fraction: Final/initial variance ratio"
   ]
  },
  {
   "cell_type": "code",
   "execution_count": null,
   "metadata": {},
   "outputs": [],
   "source": [
    "fractal_data = qc.fractal_peel(spacings, max_levels=7)\n",
    "print(f'Fractal Dimension: {fractal_data[\"fractal_dim\"]:.3f}')\n",
    "print(f'Coherence Time: {fractal_data[\"coherence_time\"]} ticks')\n",
    "print(f'Residual Fraction: {fractal_data[\"resfrac\"]:.2e}')\n\n",
    "# Visualize variance cascade\n",
    "plt.figure(figsize=(10, 5))\n",
    "plt.semilogy(range(len(fractal_data['variances'])), fractal_data['variances'], 'o-')\n",
    "plt.xlabel('Level')\n",
    "plt.ylabel('Variance')\n",
    "plt.title('Fractal Peel: Variance Cascade')\n",
    "plt.grid(True, alpha=0.3)\n",
    "plt.show()"
   ]
  },
  {
   "cell_type": "markdown",
   "metadata": {},
   "source": [
    "## 4. Spectral Analysis\n\nPower spectrum reveals frequency-domain structure."
   ]
  },
  {
   "cell_type": "code",
   "execution_count": null,
   "metadata": {},
   "outputs": [],
   "source": [
    "freqs, power = qc.compute_structure_factor(spacings)\n",
    "sharpness = qc.compute_spectral_sharpness(freqs, power)\n",
    "peak_idx = np.argmax(power)\n",
    "dominant_freq = freqs[peak_idx]\n\n",
    "print(f'Spectral Sharpness: {sharpness:.3f}')\n",
    "print(f'Dominant Frequency: {dominant_freq:.6f}')\n\n",
    "plt.figure(figsize=(10, 5))\n",
    "plt.semilogy(freqs, power)\n",
    "plt.axvline(dominant_freq, color='r', linestyle='--', label=f'Peak: {dominant_freq:.4f}')\n",
    "plt.xlabel('Frequency')\n",
    "plt.ylabel('Power')\n",
    "plt.title('Power Spectrum')\n",
    "plt.legend()\n",
    "plt.grid(True, alpha=0.3)\n",
    "plt.show()"
   ]
  },
  {
   "cell_type": "markdown",
   "metadata": {},
   "source": [
    "## 5. Complete Analysis\n\nRun full suite of metrics in one call."
   ]
  },
  {
   "cell_type": "code",
   "execution_count": null,
   "metadata": {},
   "outputs": [],
   "source": [
    "qc2 = QuantumClock(n_zeros=300)\n",
    "metrics = qc2.analyze()\n\n",
    "print('Complete Metrics:')\n",
    "for key, value in sorted(metrics.items()):\n",
    "    if isinstance(value, float):\n",
    "        print(f'  {key:25s}: {value:.6f}')\n",
    "    else:\n",
    "        print(f'  {key:25s}: {value}')"
   ]
  },
  {
   "cell_type": "markdown",
   "metadata": {},
   "source": [
    "## 6. Riemann Hypothesis Falsification Test\n\n",
    "Tests sensitivity to zeros off critical line.\n\n",
    "**Interpretation**:\n",
    "- resfrac < 0.05: Consistent with RH\n",
    "- resfrac > 0.05: Would falsify RH"
   ]
  },
  {
   "cell_type": "code",
   "execution_count": null,
   "metadata": {},
   "outputs": [],
   "source": [
    "# Test RH case vs shifted case\n",
    "resfrac_rh, falsify_rh = qc2.test_rh_falsification(beta_shift=0.0, n_test=100)\n",
    "resfrac_shift, falsify_shift = qc2.test_rh_falsification(beta_shift=0.01, n_test=100)\n\n",
    "print(f'RH case (\u03b2=0):      resfrac={resfrac_rh:.4f}, Falsifies: {falsify_rh}')\n",
    "print(f'Shifted (\u03b2=0.01):   resfrac={resfrac_shift:.4f}, Falsifies: {falsify_shift}')\n\n",
    "# Visualize\n",
    "plt.figure(figsize=(8, 5))\n",
    "plt.bar(['RH Case', 'Shifted'], [resfrac_rh, resfrac_shift], \n",
    "        color=['green', 'red'], alpha=0.7)\n",
    "plt.axhline(0.05, color='orange', linestyle='--', label='Threshold')\n",
    "plt.ylabel('Residual Fraction')\n",
    "plt.title('RH Falsification Test')\n",
    "plt.legend()\n",
    "plt.show()"
   ]
  },
  {
   "cell_type": "markdown",
   "metadata": {},
   "source": [
    "## 7. Scaling Analysis\n\nHow metrics scale with number of zeros."
   ]
  },
  {
   "cell_type": "code",
   "execution_count": null,
   "metadata": {},
   "outputs": [],
   "source": [
    "print(f'{\"N Zeros\":<10} {\"Time (s)\":<12} {\"Fractal Dim\":<15}')\n",
    "for n in [50, 100, 200, 400]:\n",
    "    start = time.time()\n",
    "    qc_test = QuantumClock(n_zeros=n)\n",
    "    m = qc_test.analyze()\n",
    "    elapsed = time.time() - start\n",
    "    print(f'{n:<10} {elapsed:<12.2f} {m[\"fractal_dim\"]:<15.3f}')"
   ]
  },
  {
   "cell_type": "markdown",
   "metadata": {},
   "source": [
    "## 8. Custom Signal Analysis\n\n",
    "Apply methods to any signal for fractal/spectral analysis."
   ]
  },
  {
   "cell_type": "code",
   "execution_count": null,
   "metadata": {},
   "outputs": [],
   "source": [
    "# Analyze custom signal\n",
    "np.random.seed(42)\n",
    "t = np.linspace(0, 10, 1000)\n",
    "signal = np.sin(2*np.pi*t) + 0.5*np.sin(4*np.pi*t) + 0.2*np.random.randn(len(t))\n\n",
    "qc_custom = QuantumClock(n_zeros=100)\n",
    "fractal_custom = qc_custom.fractal_peel(signal, max_levels=8)\n\n",
    "print(f'Custom Signal Fractal Dimension: {fractal_custom[\"fractal_dim\"]:.3f}')\n",
    "print(f'Custom Signal Coherence Time: {fractal_custom[\"coherence_time\"]} samples')\n\n",
    "# Compare with white noise\n",
    "noise = np.random.randn(1000)\n",
    "fractal_noise = qc_custom.fractal_peel(noise, max_levels=8)\n",
    "print(f'White Noise Fractal Dimension: {fractal_noise[\"fractal_dim\"]:.3f}')"
   ]
  },
  {
   "cell_type": "markdown",
   "metadata": {},
   "source": [
    "## Summary\n\n",
    "### Key Takeaways\n",
    "1. Quantum clock uses zeta spacings as timing reference\n",
    "2. Fractal peel reveals multi-scale structure\n",
    "3. Spectral analysis identifies dominant frequencies\n",
    "4. RH test shows sensitivity to off-line zeros\n",
    "5. Methods apply to any signal\n\n",
    "### Applications\n",
    "- Precision timing\n",
    "- Signal processing\n",
    "- Pattern detection\n",
    "- RH verification\n\n",
    "### Next Steps\n",
    "- **Utilities 1**: Fast zeta computation\n",
    "- **Techniques 1**: See how used in processors\n\n",
    "**Architecture**: `workbench/core/quantum.py` (Layer 2)"
   ]
  }
 ],
 "metadata": {
  "kernelspec": {
   "display_name": "Python 3",
   "language": "python",
   "name": "python3"
  }
 },
 "nbformat": 4,
 "nbformat_minor": 4
}